{
  "cells": [
    {
      "cell_type": "markdown",
      "metadata": {
        "id": "vzTObvdnWBcS"
      },
      "source": [
        "## Imports"
      ]
    },
    {
      "cell_type": "code",
      "execution_count": null,
      "metadata": {
        "id": "zZ-d12KcWBcU"
      },
      "outputs": [],
      "source": [
        "import pandas as pd\n",
        "import numpy as np\n",
        "import joblib\n",
        "import requests\n",
        "import re\n",
        "from tqdm import tqdm\n",
        "from itertools import product\n",
        "from sklearn.metrics import root_mean_squared_error, accuracy_score, precision_score, recall_score, make_scorer, ConfusionMatrixDisplay\n",
        "from sklearn.model_selection import train_test_split, GridSearchCV\n",
        "from sklearn.linear_model import LinearRegression, SGDClassifier\n",
        "from sklearn.ensemble import RandomForestRegressor, HistGradientBoostingRegressor, BaggingRegressor, VotingRegressor, RandomForestClassifier\n",
        "from sklearn.tree import DecisionTreeRegressor, DecisionTreeClassifier\n",
        "from sklearn.neighbors import KNeighborsRegressor\n",
        "from sklearn.svm import SVC\n",
        "from sklearn.ensemble import VotingClassifier, BaggingClassifier\n",
        "from imblearn.ensemble import BalancedRandomForestClassifier"
      ]
    },
    {
      "cell_type": "markdown",
      "metadata": {
        "id": "MjMrB_aUWBcV"
      },
      "source": [
        "# Forecast"
      ]
    },
    {
      "cell_type": "markdown",
      "metadata": {
        "id": "GHHDxdlcWBcV"
      },
      "source": [
        "### Data preparation\n",
        "- Use the dataset from Epicurious collected by HugoDarwood.\n",
        "- Filter the columns: the less non-ingredient columns in your\n",
        "dataset the better. You will predict the rating or rating category using only the ingredients and nothing else."
      ]
    },
    {
      "cell_type": "code",
      "execution_count": null,
      "metadata": {
        "colab": {
          "base_uri": "https://localhost:8080/"
        },
        "id": "jkTfzc9JWBcV",
        "outputId": "891acf6d-27fb-4474-dcb2-e2048b267df3"
      },
      "outputs": [
        {
          "name": "stdout",
          "output_type": "stream",
          "text": [
            "<class 'pandas.core.frame.DataFrame'>\n",
            "RangeIndex: 20052 entries, 0 to 20051\n",
            "Columns: 680 entries, title to turkey\n",
            "dtypes: float64(679), object(1)\n",
            "memory usage: 104.0+ MB\n"
          ]
        }
      ],
      "source": [
        "data = pd.read_csv('../data/epi_r.csv')\n",
        "data.info()"
      ]
    },
    {
      "cell_type": "code",
      "execution_count": null,
      "metadata": {
        "colab": {
          "base_uri": "https://localhost:8080/"
        },
        "id": "3-m3IqneWBcW",
        "outputId": "da24ed66-8d29-443d-8d97-e35577de7216"
      },
      "outputs": [
        {
          "name": "stdout",
          "output_type": "stream",
          "text": [
            "<class 'pandas.core.frame.DataFrame'>\n",
            "RangeIndex: 20052 entries, 0 to 20051\n",
            "Columns: 408 entries, title to turkey\n",
            "dtypes: float64(407), object(1)\n",
            "memory usage: 62.4+ MB\n"
          ]
        }
      ],
      "source": [
        "data = data[[col for col in data.columns if all(c not in col for c in ['/', '_', '-', ' '])]]\n",
        "data = data[[col for col in data.columns if not col.startswith('#')]]\n",
        "\n",
        "stoplist = ['calories', 'protein', 'fat', 'sodium', 'atlanta', 'alcoholic', 'anniversary', 'wheat/gluten-free', 'wedding', 'vegetarian', 'vegan', 'non-alcoholic', 'no-cook', 'london', 'louisville', 'halloween', 'graduation', 'gourmet', 'friendsgiving', 'entertaining']\n",
        "states = pd.read_csv('../data/us_states.csv')\n",
        "states_list = states.values.flatten()\n",
        "states_list = [str(val).lower() for val in states_list]\n",
        "stoplist += states_list\n",
        "\n",
        "countries = pd.read_csv('../data/countries.csv')\n",
        "countries_list = countries.values.flatten()\n",
        "countries_list = [str(val).lower() for val in countries_list]\n",
        "stoplist += countries_list\n",
        "\n",
        "data = data[[col for col in data.columns if col not in stoplist]]\n",
        "data.info()"
      ]
    },
    {
      "cell_type": "markdown",
      "metadata": {
        "id": "YgTOcuALWBcX"
      },
      "source": [
        "### Regression\n",
        "\n",
        "- Try different algorithms and their hyperparameters for rating prediction. Choose the best on cross-validation and find the score (RMSE) on the test subsample."
      ]
    },
    {
      "cell_type": "code",
      "execution_count": null,
      "metadata": {
        "id": "aW917WHuWBcX"
      },
      "outputs": [],
      "source": [
        "class RegressionModelSelection():\n",
        "    def __init__(self, grids, model_names):\n",
        "        self.grids = grids\n",
        "        self.model_names = model_names\n",
        "        self.models_info = []\n",
        "\n",
        "    def choose(self, X_train, y_train, X_valid, y_valid):\n",
        "        best_score = float('inf')\n",
        "        best_model_name = None\n",
        "\n",
        "        for i, grid in enumerate(self.grids):\n",
        "            model_name = self.model_names[i]\n",
        "            print(f\"Estimator: {model_name}\")\n",
        "\n",
        "            grid.fit(X_train, y_train)\n",
        "            best_params = grid.best_params_\n",
        "            print(f\"Best params: {best_params}\")\n",
        "            best_estimator = grid.best_estimator_\n",
        "\n",
        "            mean_cv_rmse = -grid.best_score_\n",
        "            print(f\"Mean CV RMSE: {mean_cv_rmse:.3f}\")\n",
        "\n",
        "            valid_preds = best_estimator.predict(X_valid)\n",
        "            valid_rmse = root_mean_squared_error(y_valid, valid_preds)\n",
        "            print(f\"Validation set RMSE for best params: {valid_rmse:.3f}\\n\")\n",
        "\n",
        "            if valid_rmse < best_score:\n",
        "                best_score = valid_rmse\n",
        "                best_model_name = model_name\n",
        "\n",
        "            self.models_info.append({\n",
        "                \"model\": model_name,\n",
        "                \"params\": best_params,\n",
        "                \"cv_rmse\": mean_cv_rmse,\n",
        "                \"valid_rmse\": valid_rmse,\n",
        "                \"estimator\": best_estimator\n",
        "            })\n",
        "\n",
        "        return best_model_name\n",
        "\n",
        "    def best_results(self):\n",
        "        return pd.DataFrame(self.models_info)\n"
      ]
    },
    {
      "cell_type": "code",
      "execution_count": null,
      "metadata": {
        "id": "333D_R0QWBcX"
      },
      "outputs": [],
      "source": [
        "data_y = data['rating']\n",
        "data_X = data.copy()\n",
        "data_X = data_X.drop(columns=['rating', 'title'])\n",
        "\n",
        "X_train_full, X_test, y_train_full, y_test = train_test_split(\n",
        "    data_X, data_y,\n",
        "    test_size=0.2,\n",
        "    random_state=21\n",
        ")\n",
        "X_train, X_valid, y_train, y_valid = train_test_split(\n",
        "    X_train_full, y_train_full,\n",
        "    test_size=0.2,\n",
        "    random_state=21\n",
        ")"
      ]
    },
    {
      "cell_type": "code",
      "execution_count": null,
      "metadata": {
        "id": "jUsM28k5WBcX"
      },
      "outputs": [],
      "source": [
        "linreg = LinearRegression()\n",
        "linreg_params = [{\n",
        "    'fit_intercept': [True, False],\n",
        "    'positive': [True, False]\n",
        "}]\n",
        "gs_linreg = GridSearchCV(estimator=linreg, param_grid=linreg_params, scoring='neg_root_mean_squared_error', cv=3, n_jobs=-1)"
      ]
    },
    {
      "cell_type": "code",
      "execution_count": null,
      "metadata": {
        "id": "mqIns0SnWBcX"
      },
      "outputs": [],
      "source": [
        "tree = DecisionTreeRegressor(random_state=21)\n",
        "tree_params = [{\n",
        "    'max_depth': [3, 5, 10, None],\n",
        "    'min_samples_split': [2, 5, 7],\n",
        "    'min_samples_leaf': [1, 2, 5, 7],\n",
        "    'max_features': ['sqrt', 'log2', None]\n",
        "}]\n",
        "gs_tree = GridSearchCV(estimator=tree, param_grid=tree_params, scoring='neg_root_mean_squared_error', cv=3, n_jobs=-1)"
      ]
    },
    {
      "cell_type": "code",
      "execution_count": null,
      "metadata": {
        "id": "VK4y_FMqWBcX"
      },
      "outputs": [],
      "source": [
        "forest = RandomForestRegressor(random_state=21)\n",
        "forest_params = [{\n",
        "    'n_estimators': [100, 50],\n",
        "    'max_depth': [10, 15],\n",
        "    'min_samples_split': [2, 5, 7],\n",
        "    'min_samples_leaf': [1, 2, 4],\n",
        "    'max_features': ['sqrt', 'log2', None]\n",
        "}]\n",
        "gs_forest = GridSearchCV(estimator=forest, param_grid=forest_params, scoring='neg_root_mean_squared_error', cv=2, n_jobs=2)"
      ]
    },
    {
      "cell_type": "code",
      "execution_count": null,
      "metadata": {
        "colab": {
          "base_uri": "https://localhost:8080/"
        },
        "id": "Iui_Yp8SWBcY",
        "outputId": "554e972f-c705-4728-f58b-6786cd8590da"
      },
      "outputs": [
        {
          "name": "stdout",
          "output_type": "stream",
          "text": [
            "Estimator: Linear Regression\n",
            "Best params: {'fit_intercept': True, 'positive': False}\n",
            "Mean CV RMSE: 1.279\n",
            "Validation set RMSE for best params: 1.244\n",
            "\n",
            "Estimator: Decision Tree Regressor\n",
            "Best params: {'max_depth': 10, 'max_features': None, 'min_samples_leaf': 5, 'min_samples_split': 2}\n",
            "Mean CV RMSE: 1.287\n",
            "Validation set RMSE for best params: 1.259\n",
            "\n",
            "Estimator: Random Forest Regressor\n",
            "Best params: {'max_depth': 15, 'max_features': None, 'min_samples_leaf': 2, 'min_samples_split': 2, 'n_estimators': 100}\n",
            "Mean CV RMSE: 1.270\n",
            "Validation set RMSE for best params: 1.228\n",
            "\n"
          ]
        }
      ],
      "source": [
        "grids = [gs_linreg, gs_tree, gs_forest]\n",
        "grid_names = ['Linear Regression', 'Decision Tree Regressor', 'Random Forest Regressor']\n",
        "\n",
        "selector = RegressionModelSelection(grids, grid_names)\n",
        "best_name = selector.choose(X_train, y_train, X_valid, y_valid)"
      ]
    },
    {
      "cell_type": "code",
      "execution_count": null,
      "metadata": {
        "colab": {
          "base_uri": "https://localhost:8080/"
        },
        "id": "XARiQQZjWBcY",
        "outputId": "b9165c21-7e5d-4156-feb2-bd26053610dd"
      },
      "outputs": [
        {
          "name": "stdout",
          "output_type": "stream",
          "text": [
            "Random Forest Regressor, test RMSE: 1.241\n"
          ]
        }
      ],
      "source": [
        "### RMSE ON THE TEST SUBSAMPLE\n",
        "best_grid = selector.grids[grid_names.index(best_name)]\n",
        "best_model = best_grid.best_estimator_\n",
        "\n",
        "test_preds = best_model.predict(X_test)\n",
        "test_rmse = root_mean_squared_error(y_test, test_preds)\n",
        "print(f\"{best_name}, test RMSE: {test_rmse:.3f}\")"
      ]
    },
    {
      "cell_type": "markdown",
      "metadata": {
        "id": "ALVeFZo3WBcY"
      },
      "source": [
        "- Try different ensembles and their hyperparameters. Choose the best on cross-validation and find the score on the test subsample."
      ]
    },
    {
      "cell_type": "code",
      "execution_count": null,
      "metadata": {
        "id": "zrjQNkbAWBcY"
      },
      "outputs": [],
      "source": [
        "hgb = HistGradientBoostingRegressor(random_state=21, early_stopping=True)\n",
        "\n",
        "hgb_params = [{\n",
        "    'learning_rate': [0.05, 0.1],\n",
        "    'max_iter': [200, 100],\n",
        "    'max_depth': [5, 10, None],\n",
        "    'l2_regularization': [0.0, 1.0, 2.0],\n",
        "    'max_leaf_nodes': [10, 20, 30]\n",
        "}]\n",
        "\n",
        "gs_hgb = GridSearchCV(\n",
        "    estimator=hgb,\n",
        "    param_grid=hgb_params,\n",
        "    scoring='neg_root_mean_squared_error',\n",
        "    cv=2,\n",
        "    n_jobs=-1\n",
        ")"
      ]
    },
    {
      "cell_type": "code",
      "execution_count": null,
      "metadata": {
        "id": "tYQ7QRfRWBcY"
      },
      "outputs": [],
      "source": [
        "bagging = BaggingRegressor(DecisionTreeRegressor(), random_state=21)\n",
        "\n",
        "bagging_params = [{\n",
        "    'n_estimators': [10, 50, 100],\n",
        "    'max_samples': [0.5, 0.8, 1.0],\n",
        "    'max_features': [0.5, 0.8, 1.0]\n",
        "}]\n",
        "\n",
        "gs_bagging = GridSearchCV(\n",
        "    estimator=bagging,\n",
        "    param_grid=bagging_params,\n",
        "    scoring='neg_root_mean_squared_error',\n",
        "    cv=2,\n",
        "    n_jobs=-1\n",
        ")"
      ]
    },
    {
      "cell_type": "code",
      "execution_count": null,
      "metadata": {
        "id": "ouBP86GVWBcY"
      },
      "outputs": [],
      "source": [
        "kneighbors = KNeighborsRegressor()\n",
        "\n",
        "voting = VotingRegressor([('tree', tree), ('forest', forest), ('kneighbors', kneighbors)])\n",
        "\n",
        "voting_params = {\n",
        "    'weights': [[1, 1, 1],\n",
        "                [2, 1, 1],\n",
        "                [1, 2, 1],\n",
        "                [1, 1, 2]]\n",
        "}\n",
        "\n",
        "gs_voting = GridSearchCV(\n",
        "    estimator=voting,\n",
        "    param_grid=voting_params,\n",
        "    scoring='neg_root_mean_squared_error',\n",
        "    cv=2,\n",
        "    n_jobs=-1\n",
        ")"
      ]
    },
    {
      "cell_type": "code",
      "execution_count": null,
      "metadata": {
        "colab": {
          "base_uri": "https://localhost:8080/"
        },
        "id": "PQnwv4ZvWBcY",
        "outputId": "426ae2b8-b011-4b44-9429-00d67b07763b"
      },
      "outputs": [
        {
          "name": "stdout",
          "output_type": "stream",
          "text": [
            "Estimator: Hist Gradient Boosting Regressor\n",
            "Best params: {'l2_regularization': 2.0, 'learning_rate': 0.1, 'max_depth': None, 'max_iter': 200, 'max_leaf_nodes': 30}\n",
            "Mean CV RMSE: 1.268\n",
            "Validation set RMSE for best params: 1.215\n",
            "\n",
            "Estimator: Bagging Regressor\n",
            "Best params: {'max_features': 0.5, 'max_samples': 1.0, 'n_estimators': 100}\n",
            "Mean CV RMSE: 1.244\n",
            "Validation set RMSE for best params: 1.202\n",
            "\n",
            "Estimator: Voting Regressor\n",
            "Best params: {'weights': [1, 2, 1]}\n",
            "Mean CV RMSE: 1.318\n",
            "Validation set RMSE for best params: 1.276\n",
            "\n"
          ]
        }
      ],
      "source": [
        "grids = [gs_hgb, gs_bagging, gs_voting]\n",
        "model_names = ['Hist Gradient Boosting Regressor', 'Bagging Regressor', 'Voting Regressor']\n",
        "\n",
        "selector = RegressionModelSelection(grids, model_names)\n",
        "best_name = selector.choose(X_train, y_train, X_valid, y_valid)"
      ]
    },
    {
      "cell_type": "code",
      "execution_count": null,
      "metadata": {
        "colab": {
          "base_uri": "https://localhost:8080/"
        },
        "id": "RJcNnXpVWBcY",
        "outputId": "e19aef50-4c97-48c6-9b52-f1a9bef091f3"
      },
      "outputs": [
        {
          "name": "stdout",
          "output_type": "stream",
          "text": [
            "Bagging Regressor, test RMSE: 1.201\n"
          ]
        }
      ],
      "source": [
        "### RMSE ON THE TEST SUBSAMPLE\n",
        "best_grid = selector.grids[model_names.index(best_name)]\n",
        "best_model = best_grid.best_estimator_\n",
        "\n",
        "test_preds = best_model.predict(X_test)\n",
        "test_rmse = root_mean_squared_error(y_test, test_preds)\n",
        "print(f\"{best_name}, test RMSE: {test_rmse:.3f}\")"
      ]
    },
    {
      "cell_type": "markdown",
      "metadata": {
        "id": "h2swaujsWBcZ"
      },
      "source": [
        "- Calculate the RMSE for a naive regressor that predicts the average rating."
      ]
    },
    {
      "cell_type": "code",
      "execution_count": null,
      "metadata": {
        "colab": {
          "base_uri": "https://localhost:8080/"
        },
        "id": "TASRWtE0WBcZ",
        "outputId": "a71ff357-cbb1-425c-8710-2214759374bf"
      },
      "outputs": [
        {
          "name": "stdout",
          "output_type": "stream",
          "text": [
            "Naive regressor (average rating), test RMSE: 1.307\n"
          ]
        }
      ],
      "source": [
        "avg_rating = y_train.mean()\n",
        "naive_preds = np.full_like(y_test, avg_rating)\n",
        "naive_rmse = root_mean_squared_error(y_test, naive_preds)\n",
        "print(f\"Naive regressor (average rating), test RMSE: {naive_rmse:.3f}\")"
      ]
    },
    {
      "cell_type": "markdown",
      "metadata": {
        "id": "mMS6nwjyWBcZ"
      },
      "source": [
        "### Classification\n",
        "\n",
        "- Binarize the target column by rounding the ratings to the closest integer. This will be your classes."
      ]
    },
    {
      "cell_type": "code",
      "execution_count": null,
      "metadata": {
        "id": "uYdLDpocWBcZ"
      },
      "outputs": [],
      "source": [
        "y_train_int = y_train.round().astype(int)\n",
        "y_test_int = y_test.round().astype(int)\n",
        "y_valid_int = y_valid.round().astype(int)\n",
        "y_train_full_int = y_train_full.round().astype(int)"
      ]
    },
    {
      "cell_type": "markdown",
      "metadata": {
        "id": "XK9CGmRbWBcZ"
      },
      "source": [
        "- Try different algorithms and their hyperparameters for class prediction. Choose the best on cross-validation and find the score (accuracy) on the test subsample."
      ]
    },
    {
      "cell_type": "code",
      "execution_count": null,
      "metadata": {
        "id": "d5Vgpu3YWBcZ"
      },
      "outputs": [],
      "source": [
        "class ClassificationModelSelection():\n",
        "    def __init__(self, grids, model_names):\n",
        "        self.grids = grids\n",
        "        self.model_names = model_names\n",
        "        self.models_info = []\n",
        "\n",
        "    def choose(self, X_train, y_train_int, X_valid, y_valid_int):\n",
        "        best_score = 0\n",
        "        best_model_name = None\n",
        "\n",
        "        for i, grid in enumerate(self.grids):\n",
        "            model_name = self.model_names[i]\n",
        "            print(f\"Estimator: {model_name}\")\n",
        "\n",
        "            grid.fit(X_train, y_train_int)\n",
        "            best_params = grid.best_params_\n",
        "            print(f\"Best params: {best_params}\")\n",
        "            best_estimator = grid.best_estimator_\n",
        "\n",
        "            mean_cv_acc = grid.best_score_\n",
        "            print(f\"Mean CV accuracy: {mean_cv_acc:.3f}\")\n",
        "\n",
        "            valid_preds = best_estimator.predict(X_valid)\n",
        "            valid_acc = accuracy_score(y_valid_int, valid_preds)\n",
        "            print(f\"Validation set accuracy for best params: {valid_acc:.3f}\\n\")\n",
        "\n",
        "            if valid_acc > best_score:\n",
        "                best_score = valid_acc\n",
        "                best_model_name = model_name\n",
        "\n",
        "            self.models_info.append({\n",
        "                \"model\": model_name,\n",
        "                \"params\": best_params,\n",
        "                \"cv_acc\": mean_cv_acc,\n",
        "                \"valid_acc\": valid_acc,\n",
        "                \"estimator\": best_estimator\n",
        "            })\n",
        "\n",
        "        return best_model_name\n",
        "\n",
        "    def best_results(self):\n",
        "        return pd.DataFrame(self.models_info)\n"
      ]
    },
    {
      "cell_type": "code",
      "execution_count": null,
      "metadata": {
        "id": "nrFDC489WBcZ"
      },
      "outputs": [],
      "source": [
        "svm = SVC(random_state=21)\n",
        "svm_params = [{'kernel':['linear'],\n",
        "               'C':[0.1, 1, 5],\n",
        "               'class_weight':('balanced', None)}]\n",
        "gs_svm = GridSearchCV(estimator=svm, param_grid=svm_params, scoring='accuracy', cv=2, n_jobs=2)\n",
        "\n",
        "tree = DecisionTreeClassifier(random_state=21)\n",
        "tree_params = [{'max_depth': [10, 15, None],\n",
        "                'class_weight': ['balanced', None],\n",
        "                'criterion': ['entropy', 'gini']}]\n",
        "gs_tree = GridSearchCV(estimator=tree, param_grid=tree_params, scoring='accuracy', cv=2, n_jobs=2)\n",
        "\n",
        "rf = RandomForestClassifier(random_state=21)\n",
        "rf_params = [{'n_estimators': [100, 200],\n",
        "              'max_depth': [10, None],\n",
        "              'class_weight': ['balanced', None],\n",
        "              'criterion': ['entropy', 'gini']}]\n",
        "gs_rf = GridSearchCV(estimator=rf, param_grid=rf_params, scoring='accuracy', cv=2, n_jobs=1)\n",
        "\n",
        "grids = [gs_svm, gs_tree, gs_rf]\n",
        "model_names = [\"SVM\", \"Decision Tree\", \"Random Forest\"]"
      ]
    },
    {
      "cell_type": "code",
      "execution_count": null,
      "metadata": {
        "colab": {
          "base_uri": "https://localhost:8080/"
        },
        "id": "t0bXgfckWBcZ",
        "outputId": "deb8168e-0ed6-4940-9090-64ca51498827"
      },
      "outputs": [
        {
          "name": "stdout",
          "output_type": "stream",
          "text": [
            "Estimator: SVM\n",
            "Best params: {'C': 1, 'class_weight': None, 'kernel': 'linear'}\n",
            "Mean CV accuracy: 0.668\n",
            "Validation set accuracy for best params: 0.674\n",
            "\n",
            "Estimator: Decision Tree\n",
            "Best params: {'class_weight': None, 'criterion': 'gini', 'max_depth': 10}\n",
            "Mean CV accuracy: 0.659\n",
            "Validation set accuracy for best params: 0.672\n",
            "\n",
            "Estimator: Random Forest\n",
            "Best params: {'class_weight': None, 'criterion': 'entropy', 'max_depth': None, 'n_estimators': 200}\n",
            "Mean CV accuracy: 0.683\n",
            "Validation set accuracy for best params: 0.701\n",
            "\n"
          ]
        }
      ],
      "source": [
        "selector = ClassificationModelSelection(grids, model_names)\n",
        "best_name = selector.choose(X_train, y_train_int, X_valid, y_valid_int)"
      ]
    },
    {
      "cell_type": "code",
      "execution_count": null,
      "metadata": {
        "colab": {
          "base_uri": "https://localhost:8080/"
        },
        "id": "DZ3vMFnvWBca",
        "outputId": "0645eb64-3031-4ee8-9db4-f9f2058b2e3c"
      },
      "outputs": [
        {
          "name": "stdout",
          "output_type": "stream",
          "text": [
            "Random Forest, test accuracy: 0.703\n"
          ]
        }
      ],
      "source": [
        "### ACCURACY ON THE TEST SUBSAMPLE\n",
        "best_grid = selector.grids[model_names.index(best_name)]\n",
        "best_model = best_grid.best_estimator_\n",
        "\n",
        "test_preds = best_model.predict(X_test)\n",
        "test_acc = accuracy_score(y_test_int, test_preds)\n",
        "print(f\"{best_name}, test accuracy: {test_acc:.3f}\")"
      ]
    },
    {
      "cell_type": "markdown",
      "metadata": {
        "id": "wHH1AbQIWBca"
      },
      "source": [
        "- Compare the metrics using accuracy. Calculate the accuracy of a naive classificator that predicts the most common class."
      ]
    },
    {
      "cell_type": "code",
      "execution_count": null,
      "metadata": {
        "colab": {
          "base_uri": "https://localhost:8080/"
        },
        "id": "CTDLJIbwWBca",
        "outputId": "dc4d230e-8925-4838-e16a-3e468628089c"
      },
      "outputs": [
        {
          "name": "stdout",
          "output_type": "stream",
          "text": [
            "Naive classifier (most common class), test accuracy: 0.671\n"
          ]
        }
      ],
      "source": [
        "most_common_rating = y_train_int.mode()[0]\n",
        "naive_preds = pd.Series(most_common_rating, index=y_test_int.index)\n",
        "naive_acc = accuracy_score(y_test_int, naive_preds)\n",
        "print(f\"Naive classifier (most common class), test accuracy: {naive_acc:.3f}\")"
      ]
    },
    {
      "cell_type": "markdown",
      "metadata": {
        "id": "ScRhDqEbWBca"
      },
      "source": [
        "- Binarize the target column again by converting the integers to classes ‘bad’ (0, 1), ‘so-so’ (2, 3), ‘great’ (4, 5)."
      ]
    },
    {
      "cell_type": "code",
      "execution_count": null,
      "metadata": {
        "id": "MJGDiKYKWBca"
      },
      "outputs": [],
      "source": [
        "y_train_class = y_train_int.map(lambda x: 'bad' if x in (0, 1) else 'so-so' if x in (2, 3) else 'great')\n",
        "y_test_class = y_test_int.map(lambda x: 'bad' if x in (0, 1) else 'so-so' if x in (2, 3) else 'great')\n",
        "y_valid_class = y_valid_int.map(lambda x: 'bad' if x in (0, 1) else 'so-so' if x in (2, 3) else 'great')\n",
        "y_train_full_class = y_train_full_int.map(lambda x: 'bad' if x in (0, 1) else 'so-so' if x in (2, 3) else 'great')"
      ]
    },
    {
      "cell_type": "markdown",
      "metadata": {
        "id": "1hi9w45YWBca"
      },
      "source": [
        "- Try different algorithms and their hyperparameters for class prediction. Choose the best on cross-validation and find the score on the test subsample."
      ]
    },
    {
      "cell_type": "code",
      "execution_count": null,
      "metadata": {
        "colab": {
          "base_uri": "https://localhost:8080/"
        },
        "id": "arCGb5sTWBca",
        "outputId": "e067b53a-2511-406c-bef7-430f45ea0145"
      },
      "outputs": [
        {
          "name": "stdout",
          "output_type": "stream",
          "text": [
            "Estimator: SVM\n",
            "Best params: {'C': 1, 'class_weight': None, 'kernel': 'linear'}\n",
            "Mean CV accuracy: 0.798\n",
            "Validation set accuracy for best params: 0.805\n",
            "\n",
            "Estimator: Decision Tree\n",
            "Best params: {'class_weight': None, 'criterion': 'gini', 'max_depth': 10}\n",
            "Mean CV accuracy: 0.796\n",
            "Validation set accuracy for best params: 0.802\n",
            "\n",
            "Estimator: Random Forest\n",
            "Best params: {'class_weight': None, 'criterion': 'gini', 'max_depth': None, 'n_estimators': 100}\n",
            "Mean CV accuracy: 0.811\n",
            "Validation set accuracy for best params: 0.820\n",
            "\n"
          ]
        }
      ],
      "source": [
        "svm = SVC(random_state=21)\n",
        "svm_params = [{'kernel':['linear'],\n",
        "               'C':[0.1, 1, 5],\n",
        "               'class_weight':('balanced', None)}]\n",
        "gs_svm = GridSearchCV(estimator=svm, param_grid=svm_params, scoring='accuracy', cv=2, n_jobs=2)\n",
        "\n",
        "tree = DecisionTreeClassifier(random_state=21)\n",
        "tree_params = [{'max_depth': [10, 15, None],\n",
        "                'class_weight': ['balanced', None],\n",
        "                'criterion': ['entropy', 'gini']}]\n",
        "gs_tree = GridSearchCV(estimator=tree, param_grid=tree_params, scoring='accuracy', cv=2, n_jobs=2)\n",
        "\n",
        "rf = RandomForestClassifier(random_state=21)\n",
        "rf_params = [{'n_estimators': [100, 200],\n",
        "              'max_depth': [10, None],\n",
        "              'class_weight': ['balanced', None],\n",
        "              'criterion': ['entropy', 'gini']}]\n",
        "gs_rf = GridSearchCV(estimator=rf, param_grid=rf_params, scoring='accuracy', cv=2, n_jobs=1)\n",
        "\n",
        "grids = [gs_svm, gs_tree, gs_rf]\n",
        "model_names = [\"SVM\", \"Decision Tree\", \"Random Forest\"]\n",
        "\n",
        "selector = ClassificationModelSelection(grids, model_names)\n",
        "best_name = selector.choose(X_train, y_train_class, X_valid, y_valid_class)"
      ]
    },
    {
      "cell_type": "code",
      "execution_count": null,
      "metadata": {
        "colab": {
          "base_uri": "https://localhost:8080/"
        },
        "id": "YYnrcSssWBca",
        "outputId": "51d8fdf7-be8c-421e-ff92-96d9fbda2dae"
      },
      "outputs": [
        {
          "name": "stdout",
          "output_type": "stream",
          "text": [
            "Random Forest, test accuracy: 0.819\n"
          ]
        }
      ],
      "source": [
        "### ACCURACY ON THE TEST SUBSAMPLE\n",
        "best_grid = selector.grids[model_names.index(best_name)]\n",
        "best_model = best_grid.best_estimator_\n",
        "\n",
        "test_preds = best_model.predict(X_test)\n",
        "test_acc = accuracy_score(y_test_class, test_preds)\n",
        "print(f\"{best_name}, test accuracy: {test_acc:.3f}\")"
      ]
    },
    {
      "cell_type": "markdown",
      "metadata": {
        "id": "6b0I0vXgWBcb"
      },
      "source": [
        "- Compare the metrics using accuracy. Calculate the accuracy of a naive classificator that predicts the most common class."
      ]
    },
    {
      "cell_type": "code",
      "execution_count": null,
      "metadata": {
        "colab": {
          "base_uri": "https://localhost:8080/"
        },
        "id": "TrQlKbZZWBcb",
        "outputId": "d8f4518a-f468-4624-d95c-32c5d095cfa8"
      },
      "outputs": [
        {
          "name": "stdout",
          "output_type": "stream",
          "text": [
            "Naive classifier (most common class), test accuracy: 0.798\n"
          ]
        }
      ],
      "source": [
        "most_common_class = y_train_class.mode()[0]\n",
        "naive_preds = pd.Series(most_common_class, index=y_test_class.index)\n",
        "naive_acc = accuracy_score(y_test_class, naive_preds)\n",
        "print(f\"Naive classifier (most common class), test accuracy: {naive_acc:.3f}\")"
      ]
    },
    {
      "cell_type": "markdown",
      "metadata": {
        "id": "ktpU5FmEWBcb"
      },
      "source": [
        "- What is worse: to predict a bad rating which is good in real life, or to predict a good rating which is bad in real life? Replace accuracy with the appropriate metric."
      ]
    },
    {
      "cell_type": "markdown",
      "metadata": {
        "id": "Zb0jcIrTWBci"
      },
      "source": [
        "Предсказать плохой рейтинг, когда на самом деле он хороший, - ложноотрицательная ошибка (FP). Предсказать хороший рейтинг, когда на самом деле он плохой, - ложноположительная ошибка (FN).\n",
        "\n",
        "В первом случае рекомендуется использовать метрику recall, во втором - precision."
      ]
    },
    {
      "cell_type": "code",
      "execution_count": null,
      "metadata": {
        "id": "XihcWcbmWBci"
      },
      "outputs": [],
      "source": [
        "class ClassificationModelSelection():\n",
        "    def __init__(self, grids, model_names):\n",
        "        self.grids = grids\n",
        "        self.model_names = model_names\n",
        "        self.models_info = []\n",
        "\n",
        "    def choose(self, X_train, y_train_class, X_valid, y_valid_class):\n",
        "        best_score = 0\n",
        "        best_model_name = None\n",
        "\n",
        "        for i, grid in enumerate(self.grids):\n",
        "            model_name = self.model_names[i]\n",
        "            print(f\"Estimator: {model_name}\")\n",
        "\n",
        "            grid.fit(X_train, y_train_class)\n",
        "            best_params = grid.best_params_\n",
        "            print(f\"Best params: {best_params}\")\n",
        "            best_estimator = grid.best_estimator_\n",
        "\n",
        "            mean_cv_prec = grid.best_score_\n",
        "            print(f\"Mean CV precision: {mean_cv_prec:.3f}\")\n",
        "\n",
        "            valid_preds = best_estimator.predict(X_valid)\n",
        "            valid_prec = precision_score(y_valid_class, valid_preds, average='weighted')\n",
        "            print(f\"Validation set precision for best params: {valid_prec:.3f}\\n\")\n",
        "\n",
        "            if valid_prec > best_score:\n",
        "                best_score = valid_prec\n",
        "                best_model_name = model_name\n",
        "\n",
        "            self.models_info.append({\n",
        "                \"model\": model_name,\n",
        "                \"params\": best_params,\n",
        "                \"cv_prec\": mean_cv_prec,\n",
        "                \"valid_prec\": valid_prec,\n",
        "                \"estimator\": best_estimator\n",
        "            })\n",
        "\n",
        "        return best_model_name\n",
        "\n",
        "    def best_results(self):\n",
        "        return pd.DataFrame(self.models_info)\n"
      ]
    },
    {
      "cell_type": "markdown",
      "metadata": {
        "id": "Uh0ctUVDWBci"
      },
      "source": [
        "- Try different algorithms and their hyperparameters for class prediction\n",
        "with the new metric. Choose the best and find the score on the test subsample."
      ]
    },
    {
      "cell_type": "code",
      "execution_count": null,
      "metadata": {
        "colab": {
          "base_uri": "https://localhost:8080/"
        },
        "id": "4TLvAEfFWBcj",
        "outputId": "42f628a8-5829-4906-eddb-bed627ec8881"
      },
      "outputs": [
        {
          "name": "stdout",
          "output_type": "stream",
          "text": [
            "Estimator: SVM\n",
            "Best params: {'C': 0.1, 'class_weight': 'balanced', 'kernel': 'linear'}\n",
            "Mean CV precision: 0.725\n",
            "Validation set precision for best params: 0.733\n",
            "\n",
            "Estimator: Decision Tree\n",
            "Best params: {'class_weight': None, 'criterion': 'gini', 'max_depth': 10}\n",
            "Mean CV precision: 0.717\n",
            "Validation set precision for best params: 0.724\n",
            "\n",
            "Estimator: Random Forest\n"
          ]
        },
        {
          "name": "stderr",
          "output_type": "stream",
          "text": [
            "/usr/local/lib/python3.11/dist-packages/sklearn/metrics/_classification.py:1565: UndefinedMetricWarning: Precision is ill-defined and being set to 0.0 in labels with no predicted samples. Use `zero_division` parameter to control this behavior.\n",
            "  _warn_prf(average, modifier, f\"{metric.capitalize()} is\", len(result))\n",
            "/usr/local/lib/python3.11/dist-packages/sklearn/metrics/_classification.py:1565: UndefinedMetricWarning: Precision is ill-defined and being set to 0.0 in labels with no predicted samples. Use `zero_division` parameter to control this behavior.\n",
            "  _warn_prf(average, modifier, f\"{metric.capitalize()} is\", len(result))\n",
            "/usr/local/lib/python3.11/dist-packages/sklearn/metrics/_classification.py:1565: UndefinedMetricWarning: Precision is ill-defined and being set to 0.0 in labels with no predicted samples. Use `zero_division` parameter to control this behavior.\n",
            "  _warn_prf(average, modifier, f\"{metric.capitalize()} is\", len(result))\n",
            "/usr/local/lib/python3.11/dist-packages/sklearn/metrics/_classification.py:1565: UndefinedMetricWarning: Precision is ill-defined and being set to 0.0 in labels with no predicted samples. Use `zero_division` parameter to control this behavior.\n",
            "  _warn_prf(average, modifier, f\"{metric.capitalize()} is\", len(result))\n",
            "/usr/local/lib/python3.11/dist-packages/sklearn/metrics/_classification.py:1565: UndefinedMetricWarning: Precision is ill-defined and being set to 0.0 in labels with no predicted samples. Use `zero_division` parameter to control this behavior.\n",
            "  _warn_prf(average, modifier, f\"{metric.capitalize()} is\", len(result))\n",
            "/usr/local/lib/python3.11/dist-packages/sklearn/metrics/_classification.py:1565: UndefinedMetricWarning: Precision is ill-defined and being set to 0.0 in labels with no predicted samples. Use `zero_division` parameter to control this behavior.\n",
            "  _warn_prf(average, modifier, f\"{metric.capitalize()} is\", len(result))\n",
            "/usr/local/lib/python3.11/dist-packages/sklearn/metrics/_classification.py:1565: UndefinedMetricWarning: Precision is ill-defined and being set to 0.0 in labels with no predicted samples. Use `zero_division` parameter to control this behavior.\n",
            "  _warn_prf(average, modifier, f\"{metric.capitalize()} is\", len(result))\n",
            "/usr/local/lib/python3.11/dist-packages/sklearn/metrics/_classification.py:1565: UndefinedMetricWarning: Precision is ill-defined and being set to 0.0 in labels with no predicted samples. Use `zero_division` parameter to control this behavior.\n",
            "  _warn_prf(average, modifier, f\"{metric.capitalize()} is\", len(result))\n"
          ]
        },
        {
          "name": "stdout",
          "output_type": "stream",
          "text": [
            "Best params: {'class_weight': None, 'criterion': 'gini', 'max_depth': None, 'n_estimators': 100}\n",
            "Mean CV precision: 0.779\n",
            "Validation set precision for best params: 0.810\n",
            "\n"
          ]
        }
      ],
      "source": [
        "precision_weighted = make_scorer(\n",
        "    precision_score,\n",
        "    average='weighted',\n",
        "    pos_label=None\n",
        ")\n",
        "\n",
        "svm = SVC(random_state=21)\n",
        "svm_params = [{'kernel':['linear'],\n",
        "               'C':[0.1, 1, 5],\n",
        "               'class_weight':('balanced', None)}]\n",
        "gs_svm = GridSearchCV(estimator=svm, param_grid=svm_params, scoring=precision_weighted, cv=2, n_jobs=2)\n",
        "\n",
        "tree = DecisionTreeClassifier(random_state=21)\n",
        "tree_params = [{'max_depth': [10, 15, None],\n",
        "                'class_weight': ['balanced', None],\n",
        "                'criterion': ['entropy', 'gini']}]\n",
        "gs_tree = GridSearchCV(estimator=tree, param_grid=tree_params, scoring=precision_weighted, cv=2, n_jobs=2)\n",
        "\n",
        "rf = RandomForestClassifier(random_state=21)\n",
        "rf_params = [{'n_estimators': [100, 200],\n",
        "              'max_depth': [10, None],\n",
        "              'class_weight': ['balanced', None],\n",
        "              'criterion': ['entropy', 'gini']}]\n",
        "gs_rf = GridSearchCV(estimator=rf, param_grid=rf_params, scoring=precision_weighted, cv=2, n_jobs=1)\n",
        "\n",
        "grids = [gs_svm, gs_tree, gs_rf]\n",
        "model_names = [\"SVM\", \"Decision Tree\", \"Random Forest\"]\n",
        "\n",
        "selector = ClassificationModelSelection(grids, model_names)\n",
        "best_name = selector.choose(X_train, y_train_class, X_valid, y_valid_class)"
      ]
    },
    {
      "cell_type": "code",
      "execution_count": null,
      "metadata": {
        "colab": {
          "base_uri": "https://localhost:8080/"
        },
        "id": "OsrXFuqtWBcj",
        "outputId": "cf118331-2915-437f-9f20-4caf7ef069b0"
      },
      "outputs": [
        {
          "name": "stdout",
          "output_type": "stream",
          "text": [
            "Random Forest, test precision: 0.799\n",
            "Random Forest, test accuracy: 0.819\n"
          ]
        }
      ],
      "source": [
        "### PRECISION ON THE TEST SUBSAMPLE\n",
        "best_grid = selector.grids[model_names.index(best_name)]\n",
        "best_model = best_grid.best_estimator_\n",
        "\n",
        "test_preds = best_model.predict(X_test)\n",
        "test_prec = precision_score(y_test_class, test_preds, average='weighted')\n",
        "print(f\"{best_name}, test precision: {test_prec:.3f}\")\n",
        "print(f\"{best_name}, test accuracy: {accuracy_score(y_test_class, test_preds):.3f}\")"
      ]
    },
    {
      "cell_type": "markdown",
      "metadata": {
        "id": "N5Zc_uW5WBcj"
      },
      "source": [
        "- Try different ensembles and their hyperparameters. Choose the best and find the score on the test subsample."
      ]
    },
    {
      "cell_type": "code",
      "execution_count": null,
      "metadata": {
        "colab": {
          "base_uri": "https://localhost:8080/"
        },
        "id": "h0evPaqCWBcj",
        "outputId": "0338e58f-e10a-4777-94ba-85403b0fc8f9"
      },
      "outputs": [
        {
          "name": "stderr",
          "output_type": "stream",
          "text": [
            "VotingClassifier combinations: 100%|██████████| 10/10 [16:18<00:00, 97.85s/it]\n"
          ]
        }
      ],
      "source": [
        "### VotingClassifier\n",
        "\n",
        "weights_list = [\n",
        "    (1, 1, 1),\n",
        "    (2, 1, 1),\n",
        "    (1, 2, 1),\n",
        "    (1, 1, 2),\n",
        "    (1, 2, 3),\n",
        "    (1, 3, 2),\n",
        "    (2, 1, 3),\n",
        "    (2, 3, 1),\n",
        "    (3, 1, 2),\n",
        "    (3, 2, 1)\n",
        "]\n",
        "\n",
        "results = []\n",
        "\n",
        "\n",
        "for weight in tqdm(weights_list, desc=\"VotingClassifier combinations\"):\n",
        "    voting = VotingClassifier(\n",
        "        estimators=[\n",
        "            ('svm', SVC(random_state=21, C=0.1, class_weight='balanced', kernel='linear')),\n",
        "            ('tree', DecisionTreeClassifier(random_state=21, class_weight='balanced', criterion='gini', max_depth=25, max_features='sqrt')),\n",
        "            ('forest', RandomForestClassifier(random_state=21, criterion='gini', max_depth=None, n_estimators=100))\n",
        "        ],\n",
        "        voting='hard',\n",
        "        weights=weight\n",
        "    )\n",
        "\n",
        "    voting.fit(X_train, y_train_class)\n",
        "    y_valid_pred = voting.predict(X_valid)\n",
        "\n",
        "    accuracy = accuracy_score(y_valid_class, y_valid_pred)\n",
        "    precision = precision_score(y_valid_class, y_valid_pred, average='weighted')\n",
        "    recall = recall_score(y_valid_class, y_valid_pred, average='weighted')\n",
        "\n",
        "    results.append({\n",
        "        'weights': weight,\n",
        "        'accuracy': accuracy,\n",
        "        'precision': precision,\n",
        "        'recall': recall\n",
        "    })\n",
        "\n",
        "sorted_results = sorted(results, key=lambda x: (x['precision'], x['accuracy']), reverse=True)"
      ]
    },
    {
      "cell_type": "code",
      "execution_count": null,
      "metadata": {
        "colab": {
          "base_uri": "https://localhost:8080/"
        },
        "id": "osJly96tLlgW",
        "outputId": "95eccd32-7848-40fb-bbc2-baad2f02f24f"
      },
      "outputs": [
        {
          "name": "stdout",
          "output_type": "stream",
          "text": [
            "Best weights: (1, 1, 2)\n"
          ]
        }
      ],
      "source": [
        "print(f\"Best weights: {sorted_results[0]['weights']}\")"
      ]
    },
    {
      "cell_type": "code",
      "execution_count": null,
      "metadata": {
        "colab": {
          "base_uri": "https://localhost:8080/"
        },
        "id": "UqIONqSqWBcj",
        "outputId": "3e25d91c-b9aa-4ea3-e60e-396e7c0bd285"
      },
      "outputs": [
        {
          "name": "stdout",
          "output_type": "stream",
          "text": [
            "accuracy is 0.75093\n",
            "precision is 0.80350\n",
            "recall is 0.75093\n"
          ]
        }
      ],
      "source": [
        "voting = VotingClassifier(\n",
        "    estimators=[\n",
        "        ('svm', SVC(random_state=21, C=0.1, class_weight='balanced', kernel='linear')),\n",
        "        ('tree', DecisionTreeClassifier(random_state=21, class_weight='balanced', criterion='gini', max_depth=25, max_features='sqrt')),\n",
        "        ('forest', RandomForestClassifier(random_state=21, criterion='gini', max_depth=None, n_estimators=100))\n",
        "    ],\n",
        "    voting='hard',\n",
        "    weights=(1, 1, 2)\n",
        ")\n",
        "voting.fit(X_train_full, y_train_full_class)\n",
        "y_pred = voting.predict(X_test)\n",
        "\n",
        "print(f\"accuracy is {accuracy_score(y_test_class, y_pred):.5f}\")\n",
        "print(f\"precision is {precision_score(y_test_class, y_pred, average='weighted'):.5f}\")\n",
        "print(f\"recall is {recall_score(y_test_class, y_pred, average='weighted'):.5f}\")"
      ]
    },
    {
      "cell_type": "code",
      "execution_count": null,
      "metadata": {
        "colab": {
          "base_uri": "https://localhost:8080/",
          "height": 899
        },
        "id": "m_A5ksA3oahQ",
        "outputId": "fb324a62-d8fc-4ab6-ea38-ba0b7c1c3b77"
      },
      "outputs": [
        {
          "data": {
            "text/plain": [
              "<sklearn.metrics._plot.confusion_matrix.ConfusionMatrixDisplay at 0x7e86a5936b50>"
            ]
          },
          "execution_count": 57,
          "metadata": {},
          "output_type": "execute_result"
        },
        {
          "data": {
            "image/png": "[encoded data removed]",
            "text/plain": [
              "<Figure size 640x480 with 2 Axes>"
            ]
          },
          "metadata": {},
          "output_type": "display_data"
        },
        {
          "data": {
            "image/png": "[encoded data removed]",
            "text/plain": [
              "<Figure size 640x480 with 2 Axes>"
            ]
          },
          "metadata": {},
          "output_type": "display_data"
        }
      ],
      "source": [
        "ConfusionMatrixDisplay.from_estimator(voting, X_test, y_test_class).plot()"
      ]
    },
    {
      "cell_type": "code",
      "execution_count": null,
      "metadata": {
        "colab": {
          "base_uri": "https://localhost:8080/"
        },
        "id": "DLLVOpwEWBcj",
        "outputId": "81ccce3b-3c82-4fde-8166-bc967369d52f"
      },
      "outputs": [
        {
          "name": "stderr",
          "output_type": "stream",
          "text": [
            "Bagging combinations:   0%|          | 0/6 [00:00<?, ?it/s]/usr/local/lib/python3.11/dist-packages/sklearn/metrics/_classification.py:1565: UndefinedMetricWarning: Precision is ill-defined and being set to 0.0 in labels with no predicted samples. Use `zero_division` parameter to control this behavior.\n",
            "  _warn_prf(average, modifier, f\"{metric.capitalize()} is\", len(result))\n",
            "Bagging combinations:  17%|█▋        | 1/6 [00:03<00:15,  3.11s/it]/usr/local/lib/python3.11/dist-packages/sklearn/metrics/_classification.py:1565: UndefinedMetricWarning: Precision is ill-defined and being set to 0.0 in labels with no predicted samples. Use `zero_division` parameter to control this behavior.\n",
            "  _warn_prf(average, modifier, f\"{metric.capitalize()} is\", len(result))\n",
            "Bagging combinations:  33%|███▎      | 2/6 [00:08<00:17,  4.34s/it]/usr/local/lib/python3.11/dist-packages/sklearn/metrics/_classification.py:1565: UndefinedMetricWarning: Precision is ill-defined and being set to 0.0 in labels with no predicted samples. Use `zero_division` parameter to control this behavior.\n",
            "  _warn_prf(average, modifier, f\"{metric.capitalize()} is\", len(result))\n",
            "Bagging combinations:  50%|█████     | 3/6 [00:46<01:00, 20.02s/it]/usr/local/lib/python3.11/dist-packages/sklearn/metrics/_classification.py:1565: UndefinedMetricWarning: Precision is ill-defined and being set to 0.0 in labels with no predicted samples. Use `zero_division` parameter to control this behavior.\n",
            "  _warn_prf(average, modifier, f\"{metric.capitalize()} is\", len(result))\n",
            "Bagging combinations:  67%|██████▋   | 4/6 [02:23<01:40, 50.24s/it]/usr/local/lib/python3.11/dist-packages/sklearn/metrics/_classification.py:1565: UndefinedMetricWarning: Precision is ill-defined and being set to 0.0 in labels with no predicted samples. Use `zero_division` parameter to control this behavior.\n",
            "  _warn_prf(average, modifier, f\"{metric.capitalize()} is\", len(result))\n",
            "Bagging combinations:  83%|████████▎ | 5/6 [05:16<01:34, 94.47s/it]/usr/local/lib/python3.11/dist-packages/sklearn/metrics/_classification.py:1565: UndefinedMetricWarning: Precision is ill-defined and being set to 0.0 in labels with no predicted samples. Use `zero_division` parameter to control this behavior.\n",
            "  _warn_prf(average, modifier, f\"{metric.capitalize()} is\", len(result))\n",
            "Bagging combinations: 100%|██████████| 6/6 [13:56<00:00, 139.48s/it]\n"
          ]
        }
      ],
      "source": [
        "### BaggingClassifier\n",
        "\n",
        "class_weights = {0: 10, 1: 20, 2: 1}\n",
        "base_estimators = {\n",
        "    'tree': DecisionTreeClassifier(\n",
        "        random_state=21,\n",
        "        class_weight=class_weights,\n",
        "        max_depth=10,\n",
        "        max_features='sqrt'\n",
        "    ),\n",
        "    'forest': RandomForestClassifier(\n",
        "        random_state=21,\n",
        "        class_weight=class_weights,\n",
        "        max_depth=10,\n",
        "        n_estimators=50\n",
        "    ),\n",
        "    'sgd': SGDClassifier(\n",
        "        loss='hinge',\n",
        "        class_weight=class_weights,\n",
        "        max_iter=1000,\n",
        "        random_state=21\n",
        "    )\n",
        "}\n",
        "\n",
        "param_combinations = [\n",
        "    {'n_estimators': 100, 'max_samples': 0.7, 'max_features': 0.7},\n",
        "    {'n_estimators': 200, 'max_samples': 1.0, 'max_features': 1.0}\n",
        "]\n",
        "\n",
        "results = []\n",
        "\n",
        "total_iterations = len(base_estimators) * len(param_combinations)\n",
        "\n",
        "with tqdm(total=total_iterations, desc=\"Bagging combinations\") as pbar:\n",
        "    for model_name, base_estimator in base_estimators.items():\n",
        "        for params in param_combinations:\n",
        "            bagging = BaggingClassifier(\n",
        "                estimator=base_estimator,\n",
        "                random_state=21,\n",
        "                **params\n",
        "            )\n",
        "\n",
        "            bagging.fit(X_train, y_train_class)\n",
        "            y_valid_pred = bagging.predict(X_valid)\n",
        "\n",
        "            precision = precision_score(y_valid_class, y_valid_pred, average='weighted')\n",
        "            accuracy = accuracy_score(y_valid_class, y_valid_pred)\n",
        "            recall = recall_score(y_valid_class, y_valid_pred, average='weighted')\n",
        "\n",
        "            results.append({\n",
        "                'model': model_name,\n",
        "                'params': params,\n",
        "                'accuracy': accuracy,\n",
        "                'precision': precision,\n",
        "                'recall': recall\n",
        "            })\n",
        "\n",
        "            pbar.update(1)\n",
        "\n",
        "sorted_results = sorted(results, key=lambda x: (x['precision'], x['accuracy']), reverse=True)\n",
        "best_config = sorted_results[0]"
      ]
    },
    {
      "cell_type": "code",
      "execution_count": null,
      "metadata": {
        "colab": {
          "base_uri": "https://localhost:8080/"
        },
        "id": "DjWwaZ_5WBcj",
        "outputId": "5aa09edd-b07f-47b6-8d12-59b43c4683f1"
      },
      "outputs": [
        {
          "name": "stdout",
          "output_type": "stream",
          "text": [
            "accuracy is 0.79855\n",
            "precision is 0.69533\n",
            "recall is 0.79855\n"
          ]
        },
        {
          "name": "stderr",
          "output_type": "stream",
          "text": [
            "/usr/local/lib/python3.11/dist-packages/sklearn/metrics/_classification.py:1565: UndefinedMetricWarning: Precision is ill-defined and being set to 0.0 in labels with no predicted samples. Use `zero_division` parameter to control this behavior.\n",
            "  _warn_prf(average, modifier, f\"{metric.capitalize()} is\", len(result))\n"
          ]
        }
      ],
      "source": [
        "best_model = BaggingClassifier(\n",
        "    estimator=base_estimators[best_config['model']],\n",
        "    random_state=21,\n",
        "    **best_config['params']\n",
        ")\n",
        "\n",
        "best_model.fit(X_train_full, y_train_full_class)\n",
        "y_pred = best_model.predict(X_test)\n",
        "\n",
        "print(f\"accuracy is {accuracy_score(y_test_class, y_pred):.5f}\")\n",
        "print(f\"precision is {precision_score(y_test_class, y_pred, average='weighted'):.5f}\")\n",
        "print(f\"recall is {recall_score(y_test_class, y_pred, average='weighted'):.5f}\")"
      ]
    },
    {
      "cell_type": "code",
      "execution_count": null,
      "metadata": {
        "colab": {
          "base_uri": "https://localhost:8080/",
          "height": 899
        },
        "id": "3WFSl9u7ofCF",
        "outputId": "e856df18-2733-420a-e56a-9f622e54b2c8"
      },
      "outputs": [
        {
          "data": {
            "text/plain": [
              "<sklearn.metrics._plot.confusion_matrix.ConfusionMatrixDisplay at 0x7e86a7e054d0>"
            ]
          },
          "execution_count": 60,
          "metadata": {},
          "output_type": "execute_result"
        },
        {
          "data": {
            "image/png": "[encoded data removed]",
            "text/plain": [
              "<Figure size 640x480 with 2 Axes>"
            ]
          },
          "metadata": {},
          "output_type": "display_data"
        },
        {
          "data": {
            "image/png": "[encoded data removed]",
            "text/plain": [
              "<Figure size 640x480 with 2 Axes>"
            ]
          },
          "metadata": {},
          "output_type": "display_data"
        }
      ],
      "source": [
        "ConfusionMatrixDisplay.from_estimator(best_model, X_test, y_test_class).plot()"
      ]
    },
    {
      "cell_type": "code",
      "execution_count": null,
      "metadata": {
        "colab": {
          "base_uri": "https://localhost:8080/"
        },
        "id": "WXG2QlrlpKOn",
        "outputId": "1ca88e49-b30e-4800-fea4-db7550a73bf6"
      },
      "outputs": [
        {
          "name": "stderr",
          "output_type": "stream",
          "text": [
            "Balanced Random Forest tuning: 100%|██████████| 108/108 [44:12<00:00, 24.56s/it]\n"
          ]
        }
      ],
      "source": [
        "### BalancedRandomForestClassifier\n",
        "\n",
        "n_estimators_list = [200, 400, 500]\n",
        "max_depth_list = [20, 30, 50]\n",
        "min_samples_leaf_list = [1, 5, 10]\n",
        "max_features_list = ['sqrt', 0.7]\n",
        "replacement_options = [True, False]\n",
        "\n",
        "results = []\n",
        "param_combinations = list(product(n_estimators_list, max_depth_list, min_samples_leaf_list, max_features_list, replacement_options))\n",
        "\n",
        "for i, (n_estimators, max_depth, min_samples_leaf, max_features, replacement) in enumerate(tqdm(param_combinations, total=len(param_combinations), desc=\"Balanced Random Forest tuning\")):\n",
        "\n",
        "    model = BalancedRandomForestClassifier(\n",
        "        random_state=21,\n",
        "        n_estimators=n_estimators,\n",
        "        max_depth=max_depth,\n",
        "        min_samples_leaf=min_samples_leaf,\n",
        "        max_features=max_features,\n",
        "        sampling_strategy='auto',\n",
        "        replacement=replacement\n",
        "    )\n",
        "\n",
        "    model.fit(X_train, y_train_class)\n",
        "    y_valid_pred = model.predict(X_valid)\n",
        "\n",
        "    precision = precision_score(y_valid_class, y_valid_pred, average='weighted')\n",
        "    accuracy = accuracy_score(y_valid_class, y_valid_pred)\n",
        "    recall = recall_score(y_valid_class, y_valid_pred, average='weighted')\n",
        "\n",
        "    results.append({\n",
        "        'n_estimators': n_estimators,\n",
        "        'max_depth': max_depth,\n",
        "        'min_samples_leaf': min_samples_leaf,\n",
        "        'max_features': max_features,\n",
        "        'replacement': replacement,\n",
        "        'precision': precision,\n",
        "        'accuracy': accuracy,\n",
        "        'recall': recall\n",
        "    })\n",
        "\n",
        "sorted_results = sorted(results, key=lambda x: (x['precision'], x['accuracy']), reverse=True)"
      ]
    },
    {
      "cell_type": "code",
      "execution_count": null,
      "metadata": {
        "colab": {
          "base_uri": "https://localhost:8080/"
        },
        "id": "FqI8RBkJq-66",
        "outputId": "ef02092e-d2b6-442e-f83d-3f2e2bab4822"
      },
      "outputs": [
        {
          "name": "stdout",
          "output_type": "stream",
          "text": [
            "accuracy is 0.63700\n",
            "precision is 0.74811\n",
            "recall is 0.63700\n"
          ]
        }
      ],
      "source": [
        "balanced = BalancedRandomForestClassifier(\n",
        "    random_state=21,\n",
        "    n_estimators=200,\n",
        "    max_depth=50,\n",
        "    min_samples_leaf=1,\n",
        "    max_features='sqrt',\n",
        "    sampling_strategy='auto',\n",
        "    replacement=True\n",
        ")\n",
        "\n",
        "balanced.fit(X_train_full, y_train_full_class)\n",
        "y_pred = balanced.predict(X_test)\n",
        "\n",
        "print(f\"accuracy is {accuracy_score(y_test_class, y_pred):.5f}\")\n",
        "print(f\"precision is {precision_score(y_test_class, y_pred, average='weighted'):.5f}\")\n",
        "print(f\"recall is {recall_score(y_test_class, y_pred, average='weighted'):.5f}\")"
      ]
    },
    {
      "cell_type": "code",
      "execution_count": null,
      "metadata": {
        "colab": {
          "base_uri": "https://localhost:8080/",
          "height": 899
        },
        "id": "tNKCqrUDrYbO",
        "outputId": "92c5caf8-8476-408b-ec71-b23737d97239"
      },
      "outputs": [
        {
          "data": {
            "text/plain": [
              "<sklearn.metrics._plot.confusion_matrix.ConfusionMatrixDisplay at 0x7e86a596fc90>"
            ]
          },
          "execution_count": 63,
          "metadata": {},
          "output_type": "execute_result"
        },
        {
          "data": {
            "image/png": "[encoded data removed]",
            "text/plain": [
              "<Figure size 640x480 with 2 Axes>"
            ]
          },
          "metadata": {},
          "output_type": "display_data"
        },
        {
          "data": {
            "image/png": "[encoded data removed]",
            "text/plain": [
              "<Figure size 640x480 with 2 Axes>"
            ]
          },
          "metadata": {},
          "output_type": "display_data"
        }
      ],
      "source": [
        "ConfusionMatrixDisplay.from_estimator(balanced, X_test, y_test_class).plot()"
      ]
    },
    {
      "cell_type": "code",
      "execution_count": null,
      "metadata": {
        "colab": {
          "base_uri": "https://localhost:8080/"
        },
        "id": "wkwT9e9-LUSR",
        "outputId": "86cb91e4-3f7e-4d2e-e8ca-66df850b6785"
      },
      "outputs": [
        {
          "name": "stdout",
          "output_type": "stream",
          "text": [
            "accuracy is 0.63276\n",
            "precision is 0.74779\n",
            "recall is 0.63276\n"
          ]
        }
      ],
      "source": [
        "balanced = BalancedRandomForestClassifier(\n",
        "    random_state=21,\n",
        "    n_estimators=400,\n",
        "    max_depth=50,\n",
        "    min_samples_leaf=1,\n",
        "    max_features='sqrt',\n",
        "    sampling_strategy='auto',\n",
        "    replacement=True\n",
        ")\n",
        "\n",
        "balanced.fit(X_train_full, y_train_full_class)\n",
        "y_pred = balanced.predict(X_test)\n",
        "\n",
        "print(f\"accuracy is {accuracy_score(y_test_class, y_pred):.5f}\")\n",
        "print(f\"precision is {precision_score(y_test_class, y_pred, average='weighted'):.5f}\")\n",
        "print(f\"recall is {recall_score(y_test_class, y_pred, average='weighted'):.5f}\")"
      ]
    },
    {
      "cell_type": "code",
      "execution_count": null,
      "metadata": {
        "colab": {
          "base_uri": "https://localhost:8080/",
          "height": 899
        },
        "id": "viaQEd6HLW2D",
        "outputId": "d0049bb3-faf7-4412-9945-e1b5a40b3007"
      },
      "outputs": [
        {
          "data": {
            "text/plain": [
              "<sklearn.metrics._plot.confusion_matrix.ConfusionMatrixDisplay at 0x7e86b4561d10>"
            ]
          },
          "execution_count": 65,
          "metadata": {},
          "output_type": "execute_result"
        },
        {
          "data": {
            "image/png": "[encoded data removed]",
            "text/plain": [
              "<Figure size 640x480 with 2 Axes>"
            ]
          },
          "metadata": {},
          "output_type": "display_data"
        },
        {
          "data": {
            "image/png": "[encoded data removed]",
            "text/plain": [
              "<Figure size 640x480 with 2 Axes>"
            ]
          },
          "metadata": {},
          "output_type": "display_data"
        }
      ],
      "source": [
        "ConfusionMatrixDisplay.from_estimator(balanced, X_test, y_test_class).plot()"
      ]
    },
    {
      "cell_type": "markdown",
      "metadata": {
        "id": "qTYuLhDnWBck"
      },
      "source": [
        "### Decision\n",
        "\n",
        "- Decide what is better to use: the regression model or the\n",
        "classification.\n",
        "Save the best model. You will use it in the program."
      ]
    },
    {
      "cell_type": "code",
      "execution_count": null,
      "metadata": {
        "id": "plEa_FuQWBck"
      },
      "outputs": [],
      "source": [
        "final_model = BalancedRandomForestClassifier(\n",
        "    random_state=21,\n",
        "    n_estimators=200,\n",
        "    max_depth=50,\n",
        "    min_samples_leaf=1,\n",
        "    max_features='sqrt',\n",
        "    sampling_strategy='auto',\n",
        "    replacement=True\n",
        ")\n",
        "\n",
        "data_y = data_y.round().astype(int)\n",
        "data_y = data_y.map(lambda x: 'bad' if x in (0, 1) else 'so-so' if x in (2, 3) else 'great')\n",
        "final_model.fit(data_X, data_y)\n",
        "joblib.dump(final_model, '../data/best_model.pkl')\n",
        "data_X.to_csv('../data/features.csv', index=False)"
      ]
    },
    {
      "cell_type": "code",
      "execution_count": null,
      "metadata": {
        "id": "J_6p2tDLPBAL"
      },
      "outputs": [],
      "source": [
        "data_X.to_csv('../data/features.csv', index=False)"
      ]
    },
    {
      "cell_type": "markdown",
      "metadata": {
        "id": "MYds1XwsWBck"
      },
      "source": [
        "# Nutrition Facts"
      ]
    },
    {
      "cell_type": "markdown",
      "metadata": {
        "id": "1ew-Yi43WBck"
      },
      "source": [
        "##### Collect all the nutrition facts for the ingredients from your prepared and filtered dataset (only ingredient columns) into a dataframe. Use the following API for that."
      ]
    },
    {
      "cell_type": "code",
      "execution_count": null,
      "metadata": {
        "colab": {
          "base_uri": "https://localhost:8080/",
          "height": 357
        },
        "id": "0sbcxvLnWBck",
        "outputId": "68a30aa9-f4ad-4f57-ba54-0316535b5416"
      },
      "outputs": [
        {
          "name": "stderr",
          "output_type": "stream",
          "text": [
            "100%|██████████| 406/406 [01:21<00:00,  5.00it/s]\n"
          ]
        },
        {
          "data": {
            "application/vnd.google.colaboratory.intrinsic+json": {
              "type": "dataframe",
              "variable_name": "df_nutrition"
            },
            "text/html": [
              "\n",
              "  <div id=\"df-4d5a6198-6c91-4959-94e1-ab19474a40d1\" class=\"colab-df-container\">\n",
              "    <div>\n",
              "<style scoped>\n",
              "    .dataframe tbody tr th:only-of-type {\n",
              "        vertical-align: middle;\n",
              "    }\n",
              "\n",
              "    .dataframe tbody tr th {\n",
              "        vertical-align: top;\n",
              "    }\n",
              "\n",
              "    .dataframe thead th {\n",
              "        text-align: right;\n",
              "    }\n",
              "</style>\n",
              "<table border=\"1\" class=\"dataframe\">\n",
              "  <thead>\n",
              "    <tr style=\"text-align: right;\">\n",
              "      <th></th>\n",
              "      <th>Protein</th>\n",
              "      <th>Total lipid (fat)</th>\n",
              "      <th>Carbohydrate, by difference</th>\n",
              "      <th>Energy</th>\n",
              "      <th>Alcohol, ethyl</th>\n",
              "      <th>Water</th>\n",
              "      <th>Caffeine</th>\n",
              "      <th>Theobromine</th>\n",
              "      <th>Total Sugars</th>\n",
              "      <th>Fiber, total dietary</th>\n",
              "      <th>...</th>\n",
              "      <th>PUFA 20:3 n-3</th>\n",
              "      <th>PUFA 18:3i</th>\n",
              "      <th>Energy (Atwater General Factors)</th>\n",
              "      <th>Energy (Atwater Specific Factors)</th>\n",
              "      <th>Stigmasterol</th>\n",
              "      <th>SFA 13:0</th>\n",
              "      <th>Beta-sitosterol</th>\n",
              "      <th>Campesterol</th>\n",
              "      <th>Fiber, soluble</th>\n",
              "      <th>PUFA 18:2 i</th>\n",
              "    </tr>\n",
              "    <tr>\n",
              "      <th>ingredient</th>\n",
              "      <th></th>\n",
              "      <th></th>\n",
              "      <th></th>\n",
              "      <th></th>\n",
              "      <th></th>\n",
              "      <th></th>\n",
              "      <th></th>\n",
              "      <th></th>\n",
              "      <th></th>\n",
              "      <th></th>\n",
              "      <th></th>\n",
              "      <th></th>\n",
              "      <th></th>\n",
              "      <th></th>\n",
              "      <th></th>\n",
              "      <th></th>\n",
              "      <th></th>\n",
              "      <th></th>\n",
              "      <th></th>\n",
              "      <th></th>\n",
              "      <th></th>\n",
              "    </tr>\n",
              "  </thead>\n",
              "  <tbody>\n",
              "    <tr>\n",
              "      <th>almond</th>\n",
              "      <td>20.67</td>\n",
              "      <td>52.72</td>\n",
              "      <td>21.11</td>\n",
              "      <td>641.0</td>\n",
              "      <td>0.0</td>\n",
              "      <td>1.74</td>\n",
              "      <td>0.0</td>\n",
              "      <td>0.0</td>\n",
              "      <td>4.40</td>\n",
              "      <td>9.6</td>\n",
              "      <td>...</td>\n",
              "      <td>NaN</td>\n",
              "      <td>NaN</td>\n",
              "      <td>NaN</td>\n",
              "      <td>NaN</td>\n",
              "      <td>NaN</td>\n",
              "      <td>NaN</td>\n",
              "      <td>NaN</td>\n",
              "      <td>NaN</td>\n",
              "      <td>NaN</td>\n",
              "      <td>NaN</td>\n",
              "    </tr>\n",
              "    <tr>\n",
              "      <th>amaretto</th>\n",
              "      <td>0.00</td>\n",
              "      <td>10.00</td>\n",
              "      <td>33.30</td>\n",
              "      <td>233.0</td>\n",
              "      <td>NaN</td>\n",
              "      <td>NaN</td>\n",
              "      <td>NaN</td>\n",
              "      <td>NaN</td>\n",
              "      <td>33.30</td>\n",
              "      <td>0.0</td>\n",
              "      <td>...</td>\n",
              "      <td>NaN</td>\n",
              "      <td>NaN</td>\n",
              "      <td>NaN</td>\n",
              "      <td>NaN</td>\n",
              "      <td>NaN</td>\n",
              "      <td>NaN</td>\n",
              "      <td>NaN</td>\n",
              "      <td>NaN</td>\n",
              "      <td>NaN</td>\n",
              "      <td>NaN</td>\n",
              "    </tr>\n",
              "    <tr>\n",
              "      <th>anchovy</th>\n",
              "      <td>28.89</td>\n",
              "      <td>9.71</td>\n",
              "      <td>0.00</td>\n",
              "      <td>210.0</td>\n",
              "      <td>0.0</td>\n",
              "      <td>50.30</td>\n",
              "      <td>0.0</td>\n",
              "      <td>0.0</td>\n",
              "      <td>0.00</td>\n",
              "      <td>0.0</td>\n",
              "      <td>...</td>\n",
              "      <td>NaN</td>\n",
              "      <td>NaN</td>\n",
              "      <td>NaN</td>\n",
              "      <td>NaN</td>\n",
              "      <td>NaN</td>\n",
              "      <td>NaN</td>\n",
              "      <td>NaN</td>\n",
              "      <td>NaN</td>\n",
              "      <td>NaN</td>\n",
              "      <td>NaN</td>\n",
              "    </tr>\n",
              "    <tr>\n",
              "      <th>anise</th>\n",
              "      <td>17.60</td>\n",
              "      <td>15.90</td>\n",
              "      <td>50.00</td>\n",
              "      <td>1410.0</td>\n",
              "      <td>0.0</td>\n",
              "      <td>9.54</td>\n",
              "      <td>0.0</td>\n",
              "      <td>0.0</td>\n",
              "      <td>NaN</td>\n",
              "      <td>14.6</td>\n",
              "      <td>...</td>\n",
              "      <td>NaN</td>\n",
              "      <td>NaN</td>\n",
              "      <td>NaN</td>\n",
              "      <td>NaN</td>\n",
              "      <td>NaN</td>\n",
              "      <td>NaN</td>\n",
              "      <td>NaN</td>\n",
              "      <td>NaN</td>\n",
              "      <td>NaN</td>\n",
              "      <td>NaN</td>\n",
              "    </tr>\n",
              "    <tr>\n",
              "      <th>aperitif</th>\n",
              "      <td>0.00</td>\n",
              "      <td>0.00</td>\n",
              "      <td>9.09</td>\n",
              "      <td>34.0</td>\n",
              "      <td>NaN</td>\n",
              "      <td>NaN</td>\n",
              "      <td>NaN</td>\n",
              "      <td>NaN</td>\n",
              "      <td>4.55</td>\n",
              "      <td>NaN</td>\n",
              "      <td>...</td>\n",
              "      <td>NaN</td>\n",
              "      <td>NaN</td>\n",
              "      <td>NaN</td>\n",
              "      <td>NaN</td>\n",
              "      <td>NaN</td>\n",
              "      <td>NaN</td>\n",
              "      <td>NaN</td>\n",
              "      <td>NaN</td>\n",
              "      <td>NaN</td>\n",
              "      <td>NaN</td>\n",
              "    </tr>\n",
              "  </tbody>\n",
              "</table>\n",
              "<p>5 rows × 154 columns</p>\n",
              "</div>\n",
              "    <div class=\"colab-df-buttons\">\n",
              "\n",
              "  <div class=\"colab-df-container\">\n",
              "    <button class=\"colab-df-convert\" onclick=\"convertToInteractive('df-4d5a6198-6c91-4959-94e1-ab19474a40d1')\"\n",
              "            title=\"Convert this dataframe to an interactive table.\"\n",
              "            style=\"display:none;\">\n",
              "\n",
              "  <svg xmlns=\"http://www.w3.org/2000/svg\" height=\"24px\" viewBox=\"0 -960 960 960\">\n",
              "    <path d=\"M120-120v-720h720v720H120Zm60-500h600v-160H180v160Zm220 220h160v-160H400v160Zm0 220h160v-160H400v160ZM180-400h160v-160H180v160Zm440 0h160v-160H620v160ZM180-180h160v-160H180v160Zm440 0h160v-160H620v160Z\"/>\n",
              "  </svg>\n",
              "    </button>\n",
              "\n",
              "  <style>\n",
              "    .colab-df-container {\n",
              "      display:flex;\n",
              "      gap: 12px;\n",
              "    }\n",
              "\n",
              "    .colab-df-convert {\n",
              "      background-color: #E8F0FE;\n",
              "      border: none;\n",
              "      border-radius: 50%;\n",
              "      cursor: pointer;\n",
              "      display: none;\n",
              "      fill: #1967D2;\n",
              "      height: 32px;\n",
              "      padding: 0 0 0 0;\n",
              "      width: 32px;\n",
              "    }\n",
              "\n",
              "    .colab-df-convert:hover {\n",
              "      background-color: #E2EBFA;\n",
              "      box-shadow: 0px 1px 2px rgba(60, 64, 67, 0.3), 0px 1px 3px 1px rgba(60, 64, 67, 0.15);\n",
              "      fill: #174EA6;\n",
              "    }\n",
              "\n",
              "    .colab-df-buttons div {\n",
              "      margin-bottom: 4px;\n",
              "    }\n",
              "\n",
              "    [theme=dark] .colab-df-convert {\n",
              "      background-color: #3B4455;\n",
              "      fill: #D2E3FC;\n",
              "    }\n",
              "\n",
              "    [theme=dark] .colab-df-convert:hover {\n",
              "      background-color: #434B5C;\n",
              "      box-shadow: 0px 1px 3px 1px rgba(0, 0, 0, 0.15);\n",
              "      filter: drop-shadow(0px 1px 2px rgba(0, 0, 0, 0.3));\n",
              "      fill: #FFFFFF;\n",
              "    }\n",
              "  </style>\n",
              "\n",
              "    <script>\n",
              "      const buttonEl =\n",
              "        document.querySelector('#df-4d5a6198-6c91-4959-94e1-ab19474a40d1 button.colab-df-convert');\n",
              "      buttonEl.style.display =\n",
              "        google.colab.kernel.accessAllowed ? 'block' : 'none';\n",
              "\n",
              "      async function convertToInteractive(key) {\n",
              "        const element = document.querySelector('#df-4d5a6198-6c91-4959-94e1-ab19474a40d1');\n",
              "        const dataTable =\n",
              "          await google.colab.kernel.invokeFunction('convertToInteractive',\n",
              "                                                    [key], {});\n",
              "        if (!dataTable) return;\n",
              "\n",
              "        const docLinkHtml = 'Like what you see? Visit the ' +\n",
              "          '<a target=\"_blank\" href=https://colab.research.google.com/notebooks/data_table.ipynb>data table notebook</a>'\n",
              "          + ' to learn more about interactive tables.';\n",
              "        element.innerHTML = '';\n",
              "        dataTable['output_type'] = 'display_data';\n",
              "        await google.colab.output.renderOutput(dataTable, element);\n",
              "        const docLink = document.createElement('div');\n",
              "        docLink.innerHTML = docLinkHtml;\n",
              "        element.appendChild(docLink);\n",
              "      }\n",
              "    </script>\n",
              "  </div>\n",
              "\n",
              "\n",
              "    <div id=\"df-550989bc-bd7c-4e97-8f94-aba217d9c4f2\">\n",
              "      <button class=\"colab-df-quickchart\" onclick=\"quickchart('df-550989bc-bd7c-4e97-8f94-aba217d9c4f2')\"\n",
              "                title=\"Suggest charts\"\n",
              "                style=\"display:none;\">\n",
              "\n",
              "<svg xmlns=\"http://www.w3.org/2000/svg\" height=\"24px\"viewBox=\"0 0 24 24\"\n",
              "     width=\"24px\">\n",
              "    <g>\n",
              "        <path d=\"M19 3H5c-1.1 0-2 .9-2 2v14c0 1.1.9 2 2 2h14c1.1 0 2-.9 2-2V5c0-1.1-.9-2-2-2zM9 17H7v-7h2v7zm4 0h-2V7h2v10zm4 0h-2v-4h2v4z\"/>\n",
              "    </g>\n",
              "</svg>\n",
              "      </button>\n",
              "\n",
              "<style>\n",
              "  .colab-df-quickchart {\n",
              "      --bg-color: #E8F0FE;\n",
              "      --fill-color: #1967D2;\n",
              "      --hover-bg-color: #E2EBFA;\n",
              "      --hover-fill-color: #174EA6;\n",
              "      --disabled-fill-color: #AAA;\n",
              "      --disabled-bg-color: #DDD;\n",
              "  }\n",
              "\n",
              "  [theme=dark] .colab-df-quickchart {\n",
              "      --bg-color: #3B4455;\n",
              "      --fill-color: #D2E3FC;\n",
              "      --hover-bg-color: #434B5C;\n",
              "      --hover-fill-color: #FFFFFF;\n",
              "      --disabled-bg-color: #3B4455;\n",
              "      --disabled-fill-color: #666;\n",
              "  }\n",
              "\n",
              "  .colab-df-quickchart {\n",
              "    background-color: var(--bg-color);\n",
              "    border: none;\n",
              "    border-radius: 50%;\n",
              "    cursor: pointer;\n",
              "    display: none;\n",
              "    fill: var(--fill-color);\n",
              "    height: 32px;\n",
              "    padding: 0;\n",
              "    width: 32px;\n",
              "  }\n",
              "\n",
              "  .colab-df-quickchart:hover {\n",
              "    background-color: var(--hover-bg-color);\n",
              "    box-shadow: 0 1px 2px rgba(60, 64, 67, 0.3), 0 1px 3px 1px rgba(60, 64, 67, 0.15);\n",
              "    fill: var(--button-hover-fill-color);\n",
              "  }\n",
              "\n",
              "  .colab-df-quickchart-complete:disabled,\n",
              "  .colab-df-quickchart-complete:disabled:hover {\n",
              "    background-color: var(--disabled-bg-color);\n",
              "    fill: var(--disabled-fill-color);\n",
              "    box-shadow: none;\n",
              "  }\n",
              "\n",
              "  .colab-df-spinner {\n",
              "    border: 2px solid var(--fill-color);\n",
              "    border-color: transparent;\n",
              "    border-bottom-color: var(--fill-color);\n",
              "    animation:\n",
              "      spin 1s steps(1) infinite;\n",
              "  }\n",
              "\n",
              "  @keyframes spin {\n",
              "    0% {\n",
              "      border-color: transparent;\n",
              "      border-bottom-color: var(--fill-color);\n",
              "      border-left-color: var(--fill-color);\n",
              "    }\n",
              "    20% {\n",
              "      border-color: transparent;\n",
              "      border-left-color: var(--fill-color);\n",
              "      border-top-color: var(--fill-color);\n",
              "    }\n",
              "    30% {\n",
              "      border-color: transparent;\n",
              "      border-left-color: var(--fill-color);\n",
              "      border-top-color: var(--fill-color);\n",
              "      border-right-color: var(--fill-color);\n",
              "    }\n",
              "    40% {\n",
              "      border-color: transparent;\n",
              "      border-right-color: var(--fill-color);\n",
              "      border-top-color: var(--fill-color);\n",
              "    }\n",
              "    60% {\n",
              "      border-color: transparent;\n",
              "      border-right-color: var(--fill-color);\n",
              "    }\n",
              "    80% {\n",
              "      border-color: transparent;\n",
              "      border-right-color: var(--fill-color);\n",
              "      border-bottom-color: var(--fill-color);\n",
              "    }\n",
              "    90% {\n",
              "      border-color: transparent;\n",
              "      border-bottom-color: var(--fill-color);\n",
              "    }\n",
              "  }\n",
              "</style>\n",
              "\n",
              "      <script>\n",
              "        async function quickchart(key) {\n",
              "          const quickchartButtonEl =\n",
              "            document.querySelector('#' + key + ' button');\n",
              "          quickchartButtonEl.disabled = true;  // To prevent multiple clicks.\n",
              "          quickchartButtonEl.classList.add('colab-df-spinner');\n",
              "          try {\n",
              "            const charts = await google.colab.kernel.invokeFunction(\n",
              "                'suggestCharts', [key], {});\n",
              "          } catch (error) {\n",
              "            console.error('Error during call to suggestCharts:', error);\n",
              "          }\n",
              "          quickchartButtonEl.classList.remove('colab-df-spinner');\n",
              "          quickchartButtonEl.classList.add('colab-df-quickchart-complete');\n",
              "        }\n",
              "        (() => {\n",
              "          let quickchartButtonEl =\n",
              "            document.querySelector('#df-550989bc-bd7c-4e97-8f94-aba217d9c4f2 button');\n",
              "          quickchartButtonEl.style.display =\n",
              "            google.colab.kernel.accessAllowed ? 'block' : 'none';\n",
              "        })();\n",
              "      </script>\n",
              "    </div>\n",
              "\n",
              "    </div>\n",
              "  </div>\n"
            ],
            "text/plain": [
              "            Protein  Total lipid (fat)  Carbohydrate, by difference  Energy  \\\n",
              "ingredient                                                                    \n",
              "almond        20.67              52.72                        21.11   641.0   \n",
              "amaretto       0.00              10.00                        33.30   233.0   \n",
              "anchovy       28.89               9.71                         0.00   210.0   \n",
              "anise         17.60              15.90                        50.00  1410.0   \n",
              "aperitif       0.00               0.00                         9.09    34.0   \n",
              "\n",
              "            Alcohol, ethyl  Water  Caffeine  Theobromine  Total Sugars  \\\n",
              "ingredient                                                               \n",
              "almond                 0.0   1.74       0.0          0.0          4.40   \n",
              "amaretto               NaN    NaN       NaN          NaN         33.30   \n",
              "anchovy                0.0  50.30       0.0          0.0          0.00   \n",
              "anise                  0.0   9.54       0.0          0.0           NaN   \n",
              "aperitif               NaN    NaN       NaN          NaN          4.55   \n",
              "\n",
              "            Fiber, total dietary  ...  PUFA 20:3 n-3  PUFA 18:3i  \\\n",
              "ingredient                        ...                              \n",
              "almond                       9.6  ...            NaN         NaN   \n",
              "amaretto                     0.0  ...            NaN         NaN   \n",
              "anchovy                      0.0  ...            NaN         NaN   \n",
              "anise                       14.6  ...            NaN         NaN   \n",
              "aperitif                     NaN  ...            NaN         NaN   \n",
              "\n",
              "            Energy (Atwater General Factors)  \\\n",
              "ingredient                                     \n",
              "almond                                   NaN   \n",
              "amaretto                                 NaN   \n",
              "anchovy                                  NaN   \n",
              "anise                                    NaN   \n",
              "aperitif                                 NaN   \n",
              "\n",
              "            Energy (Atwater Specific Factors)  Stigmasterol  SFA 13:0  \\\n",
              "ingredient                                                              \n",
              "almond                                    NaN           NaN       NaN   \n",
              "amaretto                                  NaN           NaN       NaN   \n",
              "anchovy                                   NaN           NaN       NaN   \n",
              "anise                                     NaN           NaN       NaN   \n",
              "aperitif                                  NaN           NaN       NaN   \n",
              "\n",
              "            Beta-sitosterol  Campesterol  Fiber, soluble  PUFA 18:2 i  \n",
              "ingredient                                                             \n",
              "almond                  NaN          NaN             NaN          NaN  \n",
              "amaretto                NaN          NaN             NaN          NaN  \n",
              "anchovy                 NaN          NaN             NaN          NaN  \n",
              "anise                   NaN          NaN             NaN          NaN  \n",
              "aperitif                NaN          NaN             NaN          NaN  \n",
              "\n",
              "[5 rows x 154 columns]"
            ]
          },
          "execution_count": 69,
          "metadata": {},
          "output_type": "execute_result"
        }
      ],
      "source": [
        "#### ---------- API KEY ---------- ####\n",
        "API_KEY = ''\n",
        "URL = 'https://api.nal.usda.gov/fdc/v1/foods/search'\n",
        "\n",
        "ingredients = pd.read_csv('../data/features.csv').columns.tolist()\n",
        "\n",
        "nutrient_data = []\n",
        "for ing in tqdm(ingredients):\n",
        "    params = {\n",
        "        'api_key': API_KEY,\n",
        "        'query': ing,\n",
        "        'pageSize': 1\n",
        "    }\n",
        "    response = requests.get(url=URL, params=params)\n",
        "    data = response.json()\n",
        "\n",
        "    row = {}\n",
        "    if data.get('foods'):\n",
        "        food = data['foods'][0]\n",
        "        for n in food.get('foodNutrients', []):\n",
        "            row[n['nutrientName']] = n.get('value', None)\n",
        "\n",
        "    nutrient_data.append(pd.Series(row, name=ing))\n",
        "\n",
        "df_nutrition = pd.DataFrame(nutrient_data)\n",
        "df_nutrition.index.name = 'ingredient'\n",
        "df_nutrition.head()"
      ]
    },
    {
      "cell_type": "code",
      "execution_count": null,
      "metadata": {
        "colab": {
          "base_uri": "https://localhost:8080/"
        },
        "id": "idzJKZyz7gUB",
        "outputId": "40ea2ca5-e92c-4b0c-c5ad-1360680315d8"
      },
      "outputs": [
        {
          "name": "stdout",
          "output_type": "stream",
          "text": [
            "['Protein', 'Total lipid', 'Carbohydrate', 'Energy', 'Alcohol', 'Water', 'Caffeine', 'Theobromine', 'Total Sugars', 'Fiber', 'Calcium', 'Iron', 'Magnesium', 'Phosphorus', 'Potassium', 'Sodium', 'Zinc', 'Copper', 'Selenium', 'Retinol', 'Vitamin A', 'Carotene', 'Carotene', 'Vitamin E', 'Vitamin D', 'Cryptoxanthin', 'Lycopene', 'Lutein + zeaxanthin', 'Vitamin C', 'Thiamin', 'Riboflavin', 'Niacin', 'Vitamin B-6', 'Folate', 'Vitamin B-12', 'Choline', 'Vitamin K', 'Folic acid', 'Folate', 'Folate', 'Vitamin E', 'Vitamin B-12', 'Cholesterol', 'Fatty acids', 'SFA 4:0', 'SFA 6:0', 'SFA 8:0', 'SFA 10:0', 'SFA 12:0', 'SFA 14:0', 'SFA 16:0', 'SFA 18:0', 'MUFA 18:1', 'PUFA 18:2', 'PUFA 18:3', 'PUFA 20:4', 'PUFA 22:6 n-3', 'MUFA 16:1', 'PUFA 18:4', 'MUFA 20:1', 'PUFA 20:5 n-3', 'MUFA 22:1', 'PUFA 22:5 n-3', 'Fatty acids', 'Fatty acids', 'Vitamin D', 'Added sugars', 'Fatty acids', 'Pantothenic acid', 'Ash', 'Manganese', 'Vitamin A', 'Vitamin A', 'Vitamin D3', 'Vitamin E', 'Isoleucine', 'Leucine', 'Lysine', 'Cystine', 'Valine', 'Arginine', 'Histidine', 'Aspartic acid', 'Serine', 'Sucrose', 'Glucose', 'Tryptophan', 'Threonine', 'Methionine', 'Phenylalanine', 'Tyrosine', 'Alanine', 'Glutamic acid', 'Glycine', 'Proline', 'Fructose', 'Vitamin K', 'Galactose', 'Lactose', 'Maltose', 'Betaine', 'MUFA 14:1', 'MUFA 24:1 c', 'PUFA 22:4', 'PUFA 20:2 n-6 c', 'PUFA 20:3', 'Tocopherol', 'Fluoride', 'Tocopherol', 'Tocopherol', 'SFA 20:0', 'Tocotrienol', 'Tocotrienol', 'SFA 15:0', 'TFA 18:1 t', 'MUFA 16:1 c', 'Fatty acids', 'MUFA 18:1 c', 'MUFA 22:1 c', 'Fatty acids', 'Tocotrienol', 'Tocotrienol', 'Hydroxyproline', 'SFA 17:0', 'SFA 24:0', 'SFA 22:0', 'Phytosterols', 'PUFA 18:3 n-3 c', 'PUFA 18:2 n-6 c', 'PUFA 20:3 n-6', 'TFA 18:2 t not further defined', 'PUFA 18:2 CLAs', 'Total sugar alcohols', 'MUFA 17:1', 'MUFA 18:1-11 t', 'Vitamin K', 'Nitrogen', 'Added sugars', 'MUFA 15:1', 'TFA 22:1 t', 'PUFA 18:3 n-6 c', 'Vitamin D2', 'Starch', 'TFA 16:1 t', 'PUFA 20:3 n-3', 'PUFA 18:3i', 'Energy', 'Energy', 'Stigmasterol', 'SFA 13:0', 'Beta-sitosterol', 'Campesterol', 'Fiber', 'PUFA 18:2 i', 'Saturated fat']\n"
          ]
        }
      ],
      "source": [
        "df_nutrition.columns = [re.split(r'[,(]', col)[0].strip() for col in df_nutrition.columns]\n",
        "sfa_columns = [col for col in df_nutrition.columns if re.fullmatch(r'SFA \\d{2}:\\d', str(col))]\n",
        "df_nutrition['Saturated fat'] = df_nutrition[sfa_columns].sum(axis=1)\n",
        "df_nutrition = df_nutrition.rename(columns={'Sugars':'Added sugars'})\n",
        "print(df_nutrition.columns.tolist())"
      ]
    },
    {
      "cell_type": "markdown",
      "metadata": {
        "id": "kICwcsi6WBck"
      },
      "source": [
        "##### Transform all the values into % of the daily value. Keep only nutrients that exist in this and that table."
      ]
    },
    {
      "cell_type": "code",
      "execution_count": null,
      "metadata": {
        "id": "z8wQOvYgWBck"
      },
      "outputs": [],
      "source": [
        "daily_values = {\n",
        "    'Fat': 78,\n",
        "    'Saturated fat': 20,\n",
        "    'Cholesterol': 300,\n",
        "    'Carbohydrate': 275,\n",
        "    'Sodium': 2300,\n",
        "    'Fiber': 28,\n",
        "    'Protein': 50,\n",
        "    'Added sugars': 50,\n",
        "    'Vitamin A': 900,\n",
        "    'Vitamin C': 90,\n",
        "    'Calcium': 1300,\n",
        "    'Iron': 18,\n",
        "    'Vitamin D': 20,\n",
        "    'Vitamin E': 15,\n",
        "    'Vitamin K': 120,\n",
        "    'Thiamin': 1.2,\n",
        "    'Riboflavin': 1.3,\n",
        "    'Niacin': 16,\n",
        "    'Vitamin B-6': 1.7,\n",
        "    'Folate': 400,\n",
        "    'Vitamin B-12': 2.4,\n",
        "    'Biotin': 30,\n",
        "    'Pantothenic acid': 5,\n",
        "    'Phosphorus': 1250,\n",
        "    'Iodine': 150,\n",
        "    'Magnesium': 420,\n",
        "    'Zinc': 11,\n",
        "    'Selenium': 55,\n",
        "    'Copper': 0.9,\n",
        "    'Manganese': 2.3,\n",
        "    'Chromium': 35,\n",
        "    'Molybdenum': 45,\n",
        "    'Chloride': 2300,\n",
        "    'Potassium': 4700,\n",
        "    'Choline':550\n",
        "}"
      ]
    },
    {
      "cell_type": "code",
      "execution_count": null,
      "metadata": {
        "colab": {
          "base_uri": "https://localhost:8080/",
          "height": 304
        },
        "id": "Dx5odWq97ke9",
        "outputId": "297f2385-2804-402d-bf7c-a327214a76b7"
      },
      "outputs": [
        {
          "data": {
            "application/vnd.google.colaboratory.intrinsic+json": {
              "type": "dataframe",
              "variable_name": "df_nutr_clean"
            },
            "text/html": [
              "\n",
              "  <div id=\"df-2048c3bb-8ee9-4453-9c60-e86963e32296\" class=\"colab-df-container\">\n",
              "    <div>\n",
              "<style scoped>\n",
              "    .dataframe tbody tr th:only-of-type {\n",
              "        vertical-align: middle;\n",
              "    }\n",
              "\n",
              "    .dataframe tbody tr th {\n",
              "        vertical-align: top;\n",
              "    }\n",
              "\n",
              "    .dataframe thead th {\n",
              "        text-align: right;\n",
              "    }\n",
              "</style>\n",
              "<table border=\"1\" class=\"dataframe\">\n",
              "  <thead>\n",
              "    <tr style=\"text-align: right;\">\n",
              "      <th></th>\n",
              "      <th>Added sugars</th>\n",
              "      <th>Calcium</th>\n",
              "      <th>Carbohydrate</th>\n",
              "      <th>Cholesterol</th>\n",
              "      <th>Choline</th>\n",
              "      <th>Copper</th>\n",
              "      <th>Fiber</th>\n",
              "      <th>Folate</th>\n",
              "      <th>Iron</th>\n",
              "      <th>Magnesium</th>\n",
              "      <th>...</th>\n",
              "      <th>Sodium</th>\n",
              "      <th>Thiamin</th>\n",
              "      <th>Vitamin A</th>\n",
              "      <th>Vitamin B-12</th>\n",
              "      <th>Vitamin B-6</th>\n",
              "      <th>Vitamin C</th>\n",
              "      <th>Vitamin D</th>\n",
              "      <th>Vitamin E</th>\n",
              "      <th>Vitamin K</th>\n",
              "      <th>Zinc</th>\n",
              "    </tr>\n",
              "    <tr>\n",
              "      <th>ingredient</th>\n",
              "      <th></th>\n",
              "      <th></th>\n",
              "      <th></th>\n",
              "      <th></th>\n",
              "      <th></th>\n",
              "      <th></th>\n",
              "      <th></th>\n",
              "      <th></th>\n",
              "      <th></th>\n",
              "      <th></th>\n",
              "      <th></th>\n",
              "      <th></th>\n",
              "      <th></th>\n",
              "      <th></th>\n",
              "      <th></th>\n",
              "      <th></th>\n",
              "      <th></th>\n",
              "      <th></th>\n",
              "      <th></th>\n",
              "      <th></th>\n",
              "      <th></th>\n",
              "    </tr>\n",
              "  </thead>\n",
              "  <tbody>\n",
              "    <tr>\n",
              "      <th>almond</th>\n",
              "      <td>0.0</td>\n",
              "      <td>263.0</td>\n",
              "      <td>21.11</td>\n",
              "      <td>0.0</td>\n",
              "      <td>51.8</td>\n",
              "      <td>0.969</td>\n",
              "      <td>9.6</td>\n",
              "      <td>42.0</td>\n",
              "      <td>4.08</td>\n",
              "      <td>266.0</td>\n",
              "      <td>...</td>\n",
              "      <td>232.0</td>\n",
              "      <td>0.094</td>\n",
              "      <td>0.0</td>\n",
              "      <td>0.00</td>\n",
              "      <td>0.083</td>\n",
              "      <td>0.0</td>\n",
              "      <td>0.0</td>\n",
              "      <td>16.57</td>\n",
              "      <td>0.0</td>\n",
              "      <td>3.16</td>\n",
              "    </tr>\n",
              "    <tr>\n",
              "      <th>amaretto</th>\n",
              "      <td>33.3</td>\n",
              "      <td>0.0</td>\n",
              "      <td>33.30</td>\n",
              "      <td>0.0</td>\n",
              "      <td>0.0</td>\n",
              "      <td>0.000</td>\n",
              "      <td>0.0</td>\n",
              "      <td>0.0</td>\n",
              "      <td>0.00</td>\n",
              "      <td>0.0</td>\n",
              "      <td>...</td>\n",
              "      <td>67.0</td>\n",
              "      <td>0.000</td>\n",
              "      <td>0.0</td>\n",
              "      <td>0.00</td>\n",
              "      <td>0.000</td>\n",
              "      <td>0.0</td>\n",
              "      <td>0.0</td>\n",
              "      <td>0.00</td>\n",
              "      <td>0.0</td>\n",
              "      <td>0.00</td>\n",
              "    </tr>\n",
              "    <tr>\n",
              "      <th>anchovy</th>\n",
              "      <td>0.0</td>\n",
              "      <td>232.0</td>\n",
              "      <td>0.00</td>\n",
              "      <td>85.0</td>\n",
              "      <td>85.0</td>\n",
              "      <td>0.339</td>\n",
              "      <td>0.0</td>\n",
              "      <td>13.0</td>\n",
              "      <td>4.63</td>\n",
              "      <td>69.0</td>\n",
              "      <td>...</td>\n",
              "      <td>3668.0</td>\n",
              "      <td>0.078</td>\n",
              "      <td>12.0</td>\n",
              "      <td>0.88</td>\n",
              "      <td>0.203</td>\n",
              "      <td>0.0</td>\n",
              "      <td>1.7</td>\n",
              "      <td>3.33</td>\n",
              "      <td>12.1</td>\n",
              "      <td>2.44</td>\n",
              "    </tr>\n",
              "    <tr>\n",
              "      <th>anise</th>\n",
              "      <td>0.0</td>\n",
              "      <td>646.0</td>\n",
              "      <td>50.00</td>\n",
              "      <td>0.0</td>\n",
              "      <td>0.0</td>\n",
              "      <td>0.910</td>\n",
              "      <td>14.6</td>\n",
              "      <td>10.0</td>\n",
              "      <td>37.00</td>\n",
              "      <td>170.0</td>\n",
              "      <td>...</td>\n",
              "      <td>16.0</td>\n",
              "      <td>0.340</td>\n",
              "      <td>311.0</td>\n",
              "      <td>0.00</td>\n",
              "      <td>0.650</td>\n",
              "      <td>21.0</td>\n",
              "      <td>0.0</td>\n",
              "      <td>0.00</td>\n",
              "      <td>0.0</td>\n",
              "      <td>5.30</td>\n",
              "    </tr>\n",
              "    <tr>\n",
              "      <th>aperitif</th>\n",
              "      <td>0.0</td>\n",
              "      <td>0.0</td>\n",
              "      <td>9.09</td>\n",
              "      <td>0.0</td>\n",
              "      <td>0.0</td>\n",
              "      <td>0.000</td>\n",
              "      <td>0.0</td>\n",
              "      <td>0.0</td>\n",
              "      <td>0.00</td>\n",
              "      <td>0.0</td>\n",
              "      <td>...</td>\n",
              "      <td>0.0</td>\n",
              "      <td>0.000</td>\n",
              "      <td>0.0</td>\n",
              "      <td>0.00</td>\n",
              "      <td>0.000</td>\n",
              "      <td>0.0</td>\n",
              "      <td>0.0</td>\n",
              "      <td>0.00</td>\n",
              "      <td>0.0</td>\n",
              "      <td>0.00</td>\n",
              "    </tr>\n",
              "  </tbody>\n",
              "</table>\n",
              "<p>5 rows × 29 columns</p>\n",
              "</div>\n",
              "    <div class=\"colab-df-buttons\">\n",
              "\n",
              "  <div class=\"colab-df-container\">\n",
              "    <button class=\"colab-df-convert\" onclick=\"convertToInteractive('df-2048c3bb-8ee9-4453-9c60-e86963e32296')\"\n",
              "            title=\"Convert this dataframe to an interactive table.\"\n",
              "            style=\"display:none;\">\n",
              "\n",
              "  <svg xmlns=\"http://www.w3.org/2000/svg\" height=\"24px\" viewBox=\"0 -960 960 960\">\n",
              "    <path d=\"M120-120v-720h720v720H120Zm60-500h600v-160H180v160Zm220 220h160v-160H400v160Zm0 220h160v-160H400v160ZM180-400h160v-160H180v160Zm440 0h160v-160H620v160ZM180-180h160v-160H180v160Zm440 0h160v-160H620v160Z\"/>\n",
              "  </svg>\n",
              "    </button>\n",
              "\n",
              "  <style>\n",
              "    .colab-df-container {\n",
              "      display:flex;\n",
              "      gap: 12px;\n",
              "    }\n",
              "\n",
              "    .colab-df-convert {\n",
              "      background-color: #E8F0FE;\n",
              "      border: none;\n",
              "      border-radius: 50%;\n",
              "      cursor: pointer;\n",
              "      display: none;\n",
              "      fill: #1967D2;\n",
              "      height: 32px;\n",
              "      padding: 0 0 0 0;\n",
              "      width: 32px;\n",
              "    }\n",
              "\n",
              "    .colab-df-convert:hover {\n",
              "      background-color: #E2EBFA;\n",
              "      box-shadow: 0px 1px 2px rgba(60, 64, 67, 0.3), 0px 1px 3px 1px rgba(60, 64, 67, 0.15);\n",
              "      fill: #174EA6;\n",
              "    }\n",
              "\n",
              "    .colab-df-buttons div {\n",
              "      margin-bottom: 4px;\n",
              "    }\n",
              "\n",
              "    [theme=dark] .colab-df-convert {\n",
              "      background-color: #3B4455;\n",
              "      fill: #D2E3FC;\n",
              "    }\n",
              "\n",
              "    [theme=dark] .colab-df-convert:hover {\n",
              "      background-color: #434B5C;\n",
              "      box-shadow: 0px 1px 3px 1px rgba(0, 0, 0, 0.15);\n",
              "      filter: drop-shadow(0px 1px 2px rgba(0, 0, 0, 0.3));\n",
              "      fill: #FFFFFF;\n",
              "    }\n",
              "  </style>\n",
              "\n",
              "    <script>\n",
              "      const buttonEl =\n",
              "        document.querySelector('#df-2048c3bb-8ee9-4453-9c60-e86963e32296 button.colab-df-convert');\n",
              "      buttonEl.style.display =\n",
              "        google.colab.kernel.accessAllowed ? 'block' : 'none';\n",
              "\n",
              "      async function convertToInteractive(key) {\n",
              "        const element = document.querySelector('#df-2048c3bb-8ee9-4453-9c60-e86963e32296');\n",
              "        const dataTable =\n",
              "          await google.colab.kernel.invokeFunction('convertToInteractive',\n",
              "                                                    [key], {});\n",
              "        if (!dataTable) return;\n",
              "\n",
              "        const docLinkHtml = 'Like what you see? Visit the ' +\n",
              "          '<a target=\"_blank\" href=https://colab.research.google.com/notebooks/data_table.ipynb>data table notebook</a>'\n",
              "          + ' to learn more about interactive tables.';\n",
              "        element.innerHTML = '';\n",
              "        dataTable['output_type'] = 'display_data';\n",
              "        await google.colab.output.renderOutput(dataTable, element);\n",
              "        const docLink = document.createElement('div');\n",
              "        docLink.innerHTML = docLinkHtml;\n",
              "        element.appendChild(docLink);\n",
              "      }\n",
              "    </script>\n",
              "  </div>\n",
              "\n",
              "\n",
              "    <div id=\"df-9187eb6c-f49f-4e94-9938-51244c60ce00\">\n",
              "      <button class=\"colab-df-quickchart\" onclick=\"quickchart('df-9187eb6c-f49f-4e94-9938-51244c60ce00')\"\n",
              "                title=\"Suggest charts\"\n",
              "                style=\"display:none;\">\n",
              "\n",
              "<svg xmlns=\"http://www.w3.org/2000/svg\" height=\"24px\"viewBox=\"0 0 24 24\"\n",
              "     width=\"24px\">\n",
              "    <g>\n",
              "        <path d=\"M19 3H5c-1.1 0-2 .9-2 2v14c0 1.1.9 2 2 2h14c1.1 0 2-.9 2-2V5c0-1.1-.9-2-2-2zM9 17H7v-7h2v7zm4 0h-2V7h2v10zm4 0h-2v-4h2v4z\"/>\n",
              "    </g>\n",
              "</svg>\n",
              "      </button>\n",
              "\n",
              "<style>\n",
              "  .colab-df-quickchart {\n",
              "      --bg-color: #E8F0FE;\n",
              "      --fill-color: #1967D2;\n",
              "      --hover-bg-color: #E2EBFA;\n",
              "      --hover-fill-color: #174EA6;\n",
              "      --disabled-fill-color: #AAA;\n",
              "      --disabled-bg-color: #DDD;\n",
              "  }\n",
              "\n",
              "  [theme=dark] .colab-df-quickchart {\n",
              "      --bg-color: #3B4455;\n",
              "      --fill-color: #D2E3FC;\n",
              "      --hover-bg-color: #434B5C;\n",
              "      --hover-fill-color: #FFFFFF;\n",
              "      --disabled-bg-color: #3B4455;\n",
              "      --disabled-fill-color: #666;\n",
              "  }\n",
              "\n",
              "  .colab-df-quickchart {\n",
              "    background-color: var(--bg-color);\n",
              "    border: none;\n",
              "    border-radius: 50%;\n",
              "    cursor: pointer;\n",
              "    display: none;\n",
              "    fill: var(--fill-color);\n",
              "    height: 32px;\n",
              "    padding: 0;\n",
              "    width: 32px;\n",
              "  }\n",
              "\n",
              "  .colab-df-quickchart:hover {\n",
              "    background-color: var(--hover-bg-color);\n",
              "    box-shadow: 0 1px 2px rgba(60, 64, 67, 0.3), 0 1px 3px 1px rgba(60, 64, 67, 0.15);\n",
              "    fill: var(--button-hover-fill-color);\n",
              "  }\n",
              "\n",
              "  .colab-df-quickchart-complete:disabled,\n",
              "  .colab-df-quickchart-complete:disabled:hover {\n",
              "    background-color: var(--disabled-bg-color);\n",
              "    fill: var(--disabled-fill-color);\n",
              "    box-shadow: none;\n",
              "  }\n",
              "\n",
              "  .colab-df-spinner {\n",
              "    border: 2px solid var(--fill-color);\n",
              "    border-color: transparent;\n",
              "    border-bottom-color: var(--fill-color);\n",
              "    animation:\n",
              "      spin 1s steps(1) infinite;\n",
              "  }\n",
              "\n",
              "  @keyframes spin {\n",
              "    0% {\n",
              "      border-color: transparent;\n",
              "      border-bottom-color: var(--fill-color);\n",
              "      border-left-color: var(--fill-color);\n",
              "    }\n",
              "    20% {\n",
              "      border-color: transparent;\n",
              "      border-left-color: var(--fill-color);\n",
              "      border-top-color: var(--fill-color);\n",
              "    }\n",
              "    30% {\n",
              "      border-color: transparent;\n",
              "      border-left-color: var(--fill-color);\n",
              "      border-top-color: var(--fill-color);\n",
              "      border-right-color: var(--fill-color);\n",
              "    }\n",
              "    40% {\n",
              "      border-color: transparent;\n",
              "      border-right-color: var(--fill-color);\n",
              "      border-top-color: var(--fill-color);\n",
              "    }\n",
              "    60% {\n",
              "      border-color: transparent;\n",
              "      border-right-color: var(--fill-color);\n",
              "    }\n",
              "    80% {\n",
              "      border-color: transparent;\n",
              "      border-right-color: var(--fill-color);\n",
              "      border-bottom-color: var(--fill-color);\n",
              "    }\n",
              "    90% {\n",
              "      border-color: transparent;\n",
              "      border-bottom-color: var(--fill-color);\n",
              "    }\n",
              "  }\n",
              "</style>\n",
              "\n",
              "      <script>\n",
              "        async function quickchart(key) {\n",
              "          const quickchartButtonEl =\n",
              "            document.querySelector('#' + key + ' button');\n",
              "          quickchartButtonEl.disabled = true;  // To prevent multiple clicks.\n",
              "          quickchartButtonEl.classList.add('colab-df-spinner');\n",
              "          try {\n",
              "            const charts = await google.colab.kernel.invokeFunction(\n",
              "                'suggestCharts', [key], {});\n",
              "          } catch (error) {\n",
              "            console.error('Error during call to suggestCharts:', error);\n",
              "          }\n",
              "          quickchartButtonEl.classList.remove('colab-df-spinner');\n",
              "          quickchartButtonEl.classList.add('colab-df-quickchart-complete');\n",
              "        }\n",
              "        (() => {\n",
              "          let quickchartButtonEl =\n",
              "            document.querySelector('#df-9187eb6c-f49f-4e94-9938-51244c60ce00 button');\n",
              "          quickchartButtonEl.style.display =\n",
              "            google.colab.kernel.accessAllowed ? 'block' : 'none';\n",
              "        })();\n",
              "      </script>\n",
              "    </div>\n",
              "\n",
              "    </div>\n",
              "  </div>\n"
            ],
            "text/plain": [
              "            Added sugars  Calcium  Carbohydrate  Cholesterol  Choline  Copper  \\\n",
              "ingredient                                                                      \n",
              "almond               0.0    263.0         21.11          0.0     51.8   0.969   \n",
              "amaretto            33.3      0.0         33.30          0.0      0.0   0.000   \n",
              "anchovy              0.0    232.0          0.00         85.0     85.0   0.339   \n",
              "anise                0.0    646.0         50.00          0.0      0.0   0.910   \n",
              "aperitif             0.0      0.0          9.09          0.0      0.0   0.000   \n",
              "\n",
              "            Fiber  Folate   Iron  Magnesium  ...  Sodium  Thiamin  Vitamin A  \\\n",
              "ingredient                                   ...                               \n",
              "almond        9.6    42.0   4.08      266.0  ...   232.0    0.094        0.0   \n",
              "amaretto      0.0     0.0   0.00        0.0  ...    67.0    0.000        0.0   \n",
              "anchovy       0.0    13.0   4.63       69.0  ...  3668.0    0.078       12.0   \n",
              "anise        14.6    10.0  37.00      170.0  ...    16.0    0.340      311.0   \n",
              "aperitif      0.0     0.0   0.00        0.0  ...     0.0    0.000        0.0   \n",
              "\n",
              "            Vitamin B-12  Vitamin B-6  Vitamin C  Vitamin D  Vitamin E  \\\n",
              "ingredient                                                               \n",
              "almond              0.00        0.083        0.0        0.0      16.57   \n",
              "amaretto            0.00        0.000        0.0        0.0       0.00   \n",
              "anchovy             0.88        0.203        0.0        1.7       3.33   \n",
              "anise               0.00        0.650       21.0        0.0       0.00   \n",
              "aperitif            0.00        0.000        0.0        0.0       0.00   \n",
              "\n",
              "            Vitamin K  Zinc  \n",
              "ingredient                   \n",
              "almond            0.0  3.16  \n",
              "amaretto          0.0  0.00  \n",
              "anchovy          12.1  2.44  \n",
              "anise             0.0  5.30  \n",
              "aperitif          0.0  0.00  \n",
              "\n",
              "[5 rows x 29 columns]"
            ]
          },
          "execution_count": 72,
          "metadata": {},
          "output_type": "execute_result"
        }
      ],
      "source": [
        "df_nutr = df_nutrition[[col for col in df_nutrition.columns if col in daily_values.keys()]]\n",
        "df_nutr_clean = (\n",
        "    df_nutr.T\n",
        "    .groupby(df_nutr.columns)\n",
        "    .agg(lambda x: x.fillna(0).max())\n",
        "    .T\n",
        ")\n",
        "df_nutr_clean.head()"
      ]
    },
    {
      "cell_type": "code",
      "execution_count": null,
      "metadata": {
        "colab": {
          "base_uri": "https://localhost:8080/",
          "height": 304
        },
        "id": "vNfN7s5_7nf6",
        "outputId": "4eaece1b-52a8-4d7a-dc89-5c0176e4145e"
      },
      "outputs": [
        {
          "data": {
            "application/vnd.google.colaboratory.intrinsic+json": {
              "type": "dataframe",
              "variable_name": "nutrients_daily"
            },
            "text/html": [
              "\n",
              "  <div id=\"df-24c36acf-2b09-47c6-9325-f15b7ee52c5b\" class=\"colab-df-container\">\n",
              "    <div>\n",
              "<style scoped>\n",
              "    .dataframe tbody tr th:only-of-type {\n",
              "        vertical-align: middle;\n",
              "    }\n",
              "\n",
              "    .dataframe tbody tr th {\n",
              "        vertical-align: top;\n",
              "    }\n",
              "\n",
              "    .dataframe thead th {\n",
              "        text-align: right;\n",
              "    }\n",
              "</style>\n",
              "<table border=\"1\" class=\"dataframe\">\n",
              "  <thead>\n",
              "    <tr style=\"text-align: right;\">\n",
              "      <th></th>\n",
              "      <th>Added sugars</th>\n",
              "      <th>Calcium</th>\n",
              "      <th>Carbohydrate</th>\n",
              "      <th>Cholesterol</th>\n",
              "      <th>Choline</th>\n",
              "      <th>Copper</th>\n",
              "      <th>Fiber</th>\n",
              "      <th>Folate</th>\n",
              "      <th>Iron</th>\n",
              "      <th>Magnesium</th>\n",
              "      <th>...</th>\n",
              "      <th>Sodium</th>\n",
              "      <th>Thiamin</th>\n",
              "      <th>Vitamin A</th>\n",
              "      <th>Vitamin B-12</th>\n",
              "      <th>Vitamin B-6</th>\n",
              "      <th>Vitamin C</th>\n",
              "      <th>Vitamin D</th>\n",
              "      <th>Vitamin E</th>\n",
              "      <th>Vitamin K</th>\n",
              "      <th>Zinc</th>\n",
              "    </tr>\n",
              "    <tr>\n",
              "      <th>ingredient</th>\n",
              "      <th></th>\n",
              "      <th></th>\n",
              "      <th></th>\n",
              "      <th></th>\n",
              "      <th></th>\n",
              "      <th></th>\n",
              "      <th></th>\n",
              "      <th></th>\n",
              "      <th></th>\n",
              "      <th></th>\n",
              "      <th></th>\n",
              "      <th></th>\n",
              "      <th></th>\n",
              "      <th></th>\n",
              "      <th></th>\n",
              "      <th></th>\n",
              "      <th></th>\n",
              "      <th></th>\n",
              "      <th></th>\n",
              "      <th></th>\n",
              "      <th></th>\n",
              "    </tr>\n",
              "  </thead>\n",
              "  <tbody>\n",
              "    <tr>\n",
              "      <th>almond</th>\n",
              "      <td>0</td>\n",
              "      <td>20</td>\n",
              "      <td>8</td>\n",
              "      <td>0</td>\n",
              "      <td>9</td>\n",
              "      <td>108</td>\n",
              "      <td>34</td>\n",
              "      <td>10</td>\n",
              "      <td>23</td>\n",
              "      <td>63</td>\n",
              "      <td>...</td>\n",
              "      <td>10</td>\n",
              "      <td>8</td>\n",
              "      <td>0</td>\n",
              "      <td>0</td>\n",
              "      <td>5</td>\n",
              "      <td>0</td>\n",
              "      <td>0</td>\n",
              "      <td>110</td>\n",
              "      <td>0</td>\n",
              "      <td>29</td>\n",
              "    </tr>\n",
              "    <tr>\n",
              "      <th>amaretto</th>\n",
              "      <td>67</td>\n",
              "      <td>0</td>\n",
              "      <td>12</td>\n",
              "      <td>0</td>\n",
              "      <td>0</td>\n",
              "      <td>0</td>\n",
              "      <td>0</td>\n",
              "      <td>0</td>\n",
              "      <td>0</td>\n",
              "      <td>0</td>\n",
              "      <td>...</td>\n",
              "      <td>3</td>\n",
              "      <td>0</td>\n",
              "      <td>0</td>\n",
              "      <td>0</td>\n",
              "      <td>0</td>\n",
              "      <td>0</td>\n",
              "      <td>0</td>\n",
              "      <td>0</td>\n",
              "      <td>0</td>\n",
              "      <td>0</td>\n",
              "    </tr>\n",
              "    <tr>\n",
              "      <th>anchovy</th>\n",
              "      <td>0</td>\n",
              "      <td>18</td>\n",
              "      <td>0</td>\n",
              "      <td>28</td>\n",
              "      <td>15</td>\n",
              "      <td>38</td>\n",
              "      <td>0</td>\n",
              "      <td>3</td>\n",
              "      <td>26</td>\n",
              "      <td>16</td>\n",
              "      <td>...</td>\n",
              "      <td>159</td>\n",
              "      <td>6</td>\n",
              "      <td>1</td>\n",
              "      <td>37</td>\n",
              "      <td>12</td>\n",
              "      <td>0</td>\n",
              "      <td>8</td>\n",
              "      <td>22</td>\n",
              "      <td>10</td>\n",
              "      <td>22</td>\n",
              "    </tr>\n",
              "    <tr>\n",
              "      <th>anise</th>\n",
              "      <td>0</td>\n",
              "      <td>50</td>\n",
              "      <td>18</td>\n",
              "      <td>0</td>\n",
              "      <td>0</td>\n",
              "      <td>101</td>\n",
              "      <td>52</td>\n",
              "      <td>2</td>\n",
              "      <td>206</td>\n",
              "      <td>40</td>\n",
              "      <td>...</td>\n",
              "      <td>1</td>\n",
              "      <td>28</td>\n",
              "      <td>35</td>\n",
              "      <td>0</td>\n",
              "      <td>38</td>\n",
              "      <td>23</td>\n",
              "      <td>0</td>\n",
              "      <td>0</td>\n",
              "      <td>0</td>\n",
              "      <td>48</td>\n",
              "    </tr>\n",
              "    <tr>\n",
              "      <th>aperitif</th>\n",
              "      <td>0</td>\n",
              "      <td>0</td>\n",
              "      <td>3</td>\n",
              "      <td>0</td>\n",
              "      <td>0</td>\n",
              "      <td>0</td>\n",
              "      <td>0</td>\n",
              "      <td>0</td>\n",
              "      <td>0</td>\n",
              "      <td>0</td>\n",
              "      <td>...</td>\n",
              "      <td>0</td>\n",
              "      <td>0</td>\n",
              "      <td>0</td>\n",
              "      <td>0</td>\n",
              "      <td>0</td>\n",
              "      <td>0</td>\n",
              "      <td>0</td>\n",
              "      <td>0</td>\n",
              "      <td>0</td>\n",
              "      <td>0</td>\n",
              "    </tr>\n",
              "  </tbody>\n",
              "</table>\n",
              "<p>5 rows × 29 columns</p>\n",
              "</div>\n",
              "    <div class=\"colab-df-buttons\">\n",
              "\n",
              "  <div class=\"colab-df-container\">\n",
              "    <button class=\"colab-df-convert\" onclick=\"convertToInteractive('df-24c36acf-2b09-47c6-9325-f15b7ee52c5b')\"\n",
              "            title=\"Convert this dataframe to an interactive table.\"\n",
              "            style=\"display:none;\">\n",
              "\n",
              "  <svg xmlns=\"http://www.w3.org/2000/svg\" height=\"24px\" viewBox=\"0 -960 960 960\">\n",
              "    <path d=\"M120-120v-720h720v720H120Zm60-500h600v-160H180v160Zm220 220h160v-160H400v160Zm0 220h160v-160H400v160ZM180-400h160v-160H180v160Zm440 0h160v-160H620v160ZM180-180h160v-160H180v160Zm440 0h160v-160H620v160Z\"/>\n",
              "  </svg>\n",
              "    </button>\n",
              "\n",
              "  <style>\n",
              "    .colab-df-container {\n",
              "      display:flex;\n",
              "      gap: 12px;\n",
              "    }\n",
              "\n",
              "    .colab-df-convert {\n",
              "      background-color: #E8F0FE;\n",
              "      border: none;\n",
              "      border-radius: 50%;\n",
              "      cursor: pointer;\n",
              "      display: none;\n",
              "      fill: #1967D2;\n",
              "      height: 32px;\n",
              "      padding: 0 0 0 0;\n",
              "      width: 32px;\n",
              "    }\n",
              "\n",
              "    .colab-df-convert:hover {\n",
              "      background-color: #E2EBFA;\n",
              "      box-shadow: 0px 1px 2px rgba(60, 64, 67, 0.3), 0px 1px 3px 1px rgba(60, 64, 67, 0.15);\n",
              "      fill: #174EA6;\n",
              "    }\n",
              "\n",
              "    .colab-df-buttons div {\n",
              "      margin-bottom: 4px;\n",
              "    }\n",
              "\n",
              "    [theme=dark] .colab-df-convert {\n",
              "      background-color: #3B4455;\n",
              "      fill: #D2E3FC;\n",
              "    }\n",
              "\n",
              "    [theme=dark] .colab-df-convert:hover {\n",
              "      background-color: #434B5C;\n",
              "      box-shadow: 0px 1px 3px 1px rgba(0, 0, 0, 0.15);\n",
              "      filter: drop-shadow(0px 1px 2px rgba(0, 0, 0, 0.3));\n",
              "      fill: #FFFFFF;\n",
              "    }\n",
              "  </style>\n",
              "\n",
              "    <script>\n",
              "      const buttonEl =\n",
              "        document.querySelector('#df-24c36acf-2b09-47c6-9325-f15b7ee52c5b button.colab-df-convert');\n",
              "      buttonEl.style.display =\n",
              "        google.colab.kernel.accessAllowed ? 'block' : 'none';\n",
              "\n",
              "      async function convertToInteractive(key) {\n",
              "        const element = document.querySelector('#df-24c36acf-2b09-47c6-9325-f15b7ee52c5b');\n",
              "        const dataTable =\n",
              "          await google.colab.kernel.invokeFunction('convertToInteractive',\n",
              "                                                    [key], {});\n",
              "        if (!dataTable) return;\n",
              "\n",
              "        const docLinkHtml = 'Like what you see? Visit the ' +\n",
              "          '<a target=\"_blank\" href=https://colab.research.google.com/notebooks/data_table.ipynb>data table notebook</a>'\n",
              "          + ' to learn more about interactive tables.';\n",
              "        element.innerHTML = '';\n",
              "        dataTable['output_type'] = 'display_data';\n",
              "        await google.colab.output.renderOutput(dataTable, element);\n",
              "        const docLink = document.createElement('div');\n",
              "        docLink.innerHTML = docLinkHtml;\n",
              "        element.appendChild(docLink);\n",
              "      }\n",
              "    </script>\n",
              "  </div>\n",
              "\n",
              "\n",
              "    <div id=\"df-88a6e55d-9723-458f-9054-b16d41675a4e\">\n",
              "      <button class=\"colab-df-quickchart\" onclick=\"quickchart('df-88a6e55d-9723-458f-9054-b16d41675a4e')\"\n",
              "                title=\"Suggest charts\"\n",
              "                style=\"display:none;\">\n",
              "\n",
              "<svg xmlns=\"http://www.w3.org/2000/svg\" height=\"24px\"viewBox=\"0 0 24 24\"\n",
              "     width=\"24px\">\n",
              "    <g>\n",
              "        <path d=\"M19 3H5c-1.1 0-2 .9-2 2v14c0 1.1.9 2 2 2h14c1.1 0 2-.9 2-2V5c0-1.1-.9-2-2-2zM9 17H7v-7h2v7zm4 0h-2V7h2v10zm4 0h-2v-4h2v4z\"/>\n",
              "    </g>\n",
              "</svg>\n",
              "      </button>\n",
              "\n",
              "<style>\n",
              "  .colab-df-quickchart {\n",
              "      --bg-color: #E8F0FE;\n",
              "      --fill-color: #1967D2;\n",
              "      --hover-bg-color: #E2EBFA;\n",
              "      --hover-fill-color: #174EA6;\n",
              "      --disabled-fill-color: #AAA;\n",
              "      --disabled-bg-color: #DDD;\n",
              "  }\n",
              "\n",
              "  [theme=dark] .colab-df-quickchart {\n",
              "      --bg-color: #3B4455;\n",
              "      --fill-color: #D2E3FC;\n",
              "      --hover-bg-color: #434B5C;\n",
              "      --hover-fill-color: #FFFFFF;\n",
              "      --disabled-bg-color: #3B4455;\n",
              "      --disabled-fill-color: #666;\n",
              "  }\n",
              "\n",
              "  .colab-df-quickchart {\n",
              "    background-color: var(--bg-color);\n",
              "    border: none;\n",
              "    border-radius: 50%;\n",
              "    cursor: pointer;\n",
              "    display: none;\n",
              "    fill: var(--fill-color);\n",
              "    height: 32px;\n",
              "    padding: 0;\n",
              "    width: 32px;\n",
              "  }\n",
              "\n",
              "  .colab-df-quickchart:hover {\n",
              "    background-color: var(--hover-bg-color);\n",
              "    box-shadow: 0 1px 2px rgba(60, 64, 67, 0.3), 0 1px 3px 1px rgba(60, 64, 67, 0.15);\n",
              "    fill: var(--button-hover-fill-color);\n",
              "  }\n",
              "\n",
              "  .colab-df-quickchart-complete:disabled,\n",
              "  .colab-df-quickchart-complete:disabled:hover {\n",
              "    background-color: var(--disabled-bg-color);\n",
              "    fill: var(--disabled-fill-color);\n",
              "    box-shadow: none;\n",
              "  }\n",
              "\n",
              "  .colab-df-spinner {\n",
              "    border: 2px solid var(--fill-color);\n",
              "    border-color: transparent;\n",
              "    border-bottom-color: var(--fill-color);\n",
              "    animation:\n",
              "      spin 1s steps(1) infinite;\n",
              "  }\n",
              "\n",
              "  @keyframes spin {\n",
              "    0% {\n",
              "      border-color: transparent;\n",
              "      border-bottom-color: var(--fill-color);\n",
              "      border-left-color: var(--fill-color);\n",
              "    }\n",
              "    20% {\n",
              "      border-color: transparent;\n",
              "      border-left-color: var(--fill-color);\n",
              "      border-top-color: var(--fill-color);\n",
              "    }\n",
              "    30% {\n",
              "      border-color: transparent;\n",
              "      border-left-color: var(--fill-color);\n",
              "      border-top-color: var(--fill-color);\n",
              "      border-right-color: var(--fill-color);\n",
              "    }\n",
              "    40% {\n",
              "      border-color: transparent;\n",
              "      border-right-color: var(--fill-color);\n",
              "      border-top-color: var(--fill-color);\n",
              "    }\n",
              "    60% {\n",
              "      border-color: transparent;\n",
              "      border-right-color: var(--fill-color);\n",
              "    }\n",
              "    80% {\n",
              "      border-color: transparent;\n",
              "      border-right-color: var(--fill-color);\n",
              "      border-bottom-color: var(--fill-color);\n",
              "    }\n",
              "    90% {\n",
              "      border-color: transparent;\n",
              "      border-bottom-color: var(--fill-color);\n",
              "    }\n",
              "  }\n",
              "</style>\n",
              "\n",
              "      <script>\n",
              "        async function quickchart(key) {\n",
              "          const quickchartButtonEl =\n",
              "            document.querySelector('#' + key + ' button');\n",
              "          quickchartButtonEl.disabled = true;  // To prevent multiple clicks.\n",
              "          quickchartButtonEl.classList.add('colab-df-spinner');\n",
              "          try {\n",
              "            const charts = await google.colab.kernel.invokeFunction(\n",
              "                'suggestCharts', [key], {});\n",
              "          } catch (error) {\n",
              "            console.error('Error during call to suggestCharts:', error);\n",
              "          }\n",
              "          quickchartButtonEl.classList.remove('colab-df-spinner');\n",
              "          quickchartButtonEl.classList.add('colab-df-quickchart-complete');\n",
              "        }\n",
              "        (() => {\n",
              "          let quickchartButtonEl =\n",
              "            document.querySelector('#df-88a6e55d-9723-458f-9054-b16d41675a4e button');\n",
              "          quickchartButtonEl.style.display =\n",
              "            google.colab.kernel.accessAllowed ? 'block' : 'none';\n",
              "        })();\n",
              "      </script>\n",
              "    </div>\n",
              "\n",
              "    </div>\n",
              "  </div>\n"
            ],
            "text/plain": [
              "            Added sugars  Calcium  Carbohydrate  Cholesterol  Choline  Copper  \\\n",
              "ingredient                                                                      \n",
              "almond                 0       20             8            0        9     108   \n",
              "amaretto              67        0            12            0        0       0   \n",
              "anchovy                0       18             0           28       15      38   \n",
              "anise                  0       50            18            0        0     101   \n",
              "aperitif               0        0             3            0        0       0   \n",
              "\n",
              "            Fiber  Folate  Iron  Magnesium  ...  Sodium  Thiamin  Vitamin A  \\\n",
              "ingredient                                  ...                               \n",
              "almond         34      10    23         63  ...      10        8          0   \n",
              "amaretto        0       0     0          0  ...       3        0          0   \n",
              "anchovy         0       3    26         16  ...     159        6          1   \n",
              "anise          52       2   206         40  ...       1       28         35   \n",
              "aperitif        0       0     0          0  ...       0        0          0   \n",
              "\n",
              "            Vitamin B-12  Vitamin B-6  Vitamin C  Vitamin D  Vitamin E  \\\n",
              "ingredient                                                               \n",
              "almond                 0            5          0          0        110   \n",
              "amaretto               0            0          0          0          0   \n",
              "anchovy               37           12          0          8         22   \n",
              "anise                  0           38         23          0          0   \n",
              "aperitif               0            0          0          0          0   \n",
              "\n",
              "            Vitamin K  Zinc  \n",
              "ingredient                   \n",
              "almond              0    29  \n",
              "amaretto            0     0  \n",
              "anchovy            10    22  \n",
              "anise               0    48  \n",
              "aperitif            0     0  \n",
              "\n",
              "[5 rows x 29 columns]"
            ]
          },
          "execution_count": 73,
          "metadata": {},
          "output_type": "execute_result"
        }
      ],
      "source": [
        "nutrients_daily = df_nutr_clean.copy()\n",
        "\n",
        "for nutrient, dv in daily_values.items():\n",
        "    if nutrient in nutrients_daily:\n",
        "        nutrients_daily[nutrient] = (nutrients_daily[nutrient] / dv) * 100\n",
        "        nutrients_daily[nutrient] = round(nutrients_daily[nutrient]).astype(int)\n",
        "\n",
        "nutrients_daily.head()"
      ]
    },
    {
      "cell_type": "markdown",
      "metadata": {
        "id": "vmQM_4U6WBck"
      },
      "source": [
        "##### Save the transformed dataframe into a CSV file that you will use in your main"
      ]
    },
    {
      "cell_type": "code",
      "execution_count": null,
      "metadata": {
        "id": "zbO3Dwx7WBck"
      },
      "outputs": [],
      "source": [
        "nutrients_daily.to_csv('../data/nutrients.csv')"
      ]
    },
    {
      "cell_type": "markdown",
      "metadata": {
        "id": "H6Hqkx3KWBck"
      },
      "source": [
        "# Similar Recipes"
      ]
    },
    {
      "cell_type": "markdown",
      "metadata": {
        "id": "i3DClpJfWBcl"
      },
      "source": [
        "##### For each recipe from the dataset, collect the URL from epicurious.com with its details (if there is no URL for that recipe, skip it)."
      ]
    },
    {
      "cell_type": "code",
      "execution_count": 89,
      "metadata": {
        "colab": {
          "base_uri": "https://localhost:8080/"
        },
        "id": "6R-J_GoZWBcl",
        "outputId": "f6fbafd0-9810-4616-cd43-ce714d36af9f"
      },
      "outputs": [
        {
          "name": "stderr",
          "output_type": "stream",
          "text": [
            "100%|██████████| 5326/5326 [00:00<00:00, 5880.42it/s]\n"
          ]
        }
      ],
      "source": [
        "URL = 'https://www.epicurious.com/'\n",
        "data = pd.read_csv('../data/epi_r.csv')\n",
        "titles = data[['title', 'rating']]\n",
        "\n",
        "def build__url(title):\n",
        "    base_url = \"https://www.epicurious.com/search?q=\"\n",
        "    query = title.strip().replace(\" \", \"+\")\n",
        "    search_url = base_url + query\n",
        "    return search_url\n",
        "\n",
        "urls_df = []\n",
        "\n",
        "for _, row in tqdm(titles.iterrows(), total=len(titles)):\n",
        "    title = row['title']\n",
        "    rating = round(row['rating'], 1) if pd.notnull(row['rating']) else None\n",
        "    link = build__url(title)\n",
        "\n",
        "    if link:\n",
        "        urls_df.append({\n",
        "            'title': title,\n",
        "            'rating': rating,\n",
        "            'url': link\n",
        "        })"
      ]
    },
    {
      "cell_type": "markdown",
      "metadata": {
        "id": "v9_6P4kzWBcl"
      },
      "source": [
        "##### Save the new dataframe to a CSV file that you will use in your main program."
      ]
    },
    {
      "cell_type": "code",
      "execution_count": 90,
      "metadata": {
        "id": "EDotI0kjWBcl"
      },
      "outputs": [],
      "source": [
        "result = pd.DataFrame(urls_df)\n",
        "result.to_csv('data/urls_recipes.csv')"
      ]
    }
  ],
  "metadata": {
    "accelerator": "GPU",
    "colab": {
      "gpuType": "T4",
      "provenance": []
    },
    "kernelspec": {
      "display_name": "Python 3",
      "name": "python3"
    },
    "language_info": {
      "codemirror_mode": {
        "name": "ipython",
        "version": 3
      },
      "file_extension": ".py",
      "mimetype": "text/x-python",
      "name": "python",
      "nbconvert_exporter": "python",
      "pygments_lexer": "ipython3",
      "version": "3.12.7"
    }
  },
  "nbformat": 4,
  "nbformat_minor": 0
}
